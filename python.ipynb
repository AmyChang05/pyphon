{
  "nbformat": 4,
  "nbformat_minor": 0,
  "metadata": {
    "colab": {
      "name": "python.ipynb",
      "provenance": [],
      "collapsed_sections": []
    },
    "kernelspec": {
      "name": "python3",
      "display_name": "Python 3"
    },
    "language_info": {
      "name": "python"
    }
  },
  "cells": [
    {
      "cell_type": "code",
      "source": [
        "import  requests\n",
        "a=requests.get(\"https://www.must.edu.tw/\")\n",
        "print(a.text)"
      ],
      "metadata": {
        "colab": {
          "base_uri": "https://localhost:8080/"
        },
        "id": "NIQZsrcTeMmo",
        "outputId": "cf9720a5-3fcf-432a-8068-aa60fc123e98"
      },
      "execution_count": null,
      "outputs": [
        {
          "output_type": "stream",
          "name": "stdout",
          "text": [
            "<!DOCTYPE html>\n",
            "<html xmlns=\"http://www.w3.org/1999/xhtml\" xml:lang=\"zh-tw\" lang=\"zh-tw\" dir=\"ltr\">\n",
            "\n",
            "<head>\n",
            "  <title>明新科技大學 - 首頁</title>\n",
            "    <!-- Required Meta Tags Start -->\n",
            "  <meta charset=\"utf-8\">\n",
            "  <meta http-equiv=\"x-ua-compatible\" content=\"ie=edge\">\n",
            "  <meta name=\"description\" content=\"\">\n",
            "  <meta name=\"keywords\" content=\"\">\n",
            "  <meta name=\"author\" content=\"must\">\n",
            "  <meta name=\"viewport\" content=\"width=device-width, initial-scale=1, shrink-to-fit=no\">\n",
            "  <!-- Required Meta Tags End -->\n",
            "\n",
            "  <!-- Favicon Tags Start -->\n",
            "  <link rel=\"shortcut icon\" href=\"https://www.must.edu.tw/favicon.ico\">\n",
            "  <!-- Favicon Tags End -->\n",
            "\n",
            "  <!-- CSS here -->\n",
            "  <link rel=\"stylesheet\" href=\"https://www.must.edu.tw/templates/plugin/plugin.css\">\n",
            "  <link rel=\"stylesheet\" href=\"https://www.must.edu.tw/templates/css/style.css\">\n",
            "  <link rel=\"stylesheet\" href=\"https://www.must.edu.tw/templates/plugin/slick/slick.css\">\n",
            "  <link rel=\"stylesheet\" href=\"https://www.must.edu.tw/templates/css/custom.css\">\n",
            "\n",
            "    <!-- Global site tag (gtag.js) - Google Analytics -->\n",
            "<script async src=\"https://www.googletagmanager.com/gtag/js?id=UA-131310035-1\"></script>\n",
            "</head>\n",
            "\n",
            "<body>\n",
            "  <!-- Mobile Header-->\n",
            "<div class=\"navbar-fixed-top d-xl-none header-mobile\">\n",
            "    <!-- LOGO-->\n",
            "    <div class=\"logo\"><a href=\"https://www.must.edu.tw/\"><img src=\"https://www.must.edu.tw/images/ui/400W.png\"\n",
            "                alt=\"明新科大logo\" width=\"400\"></a></div>\n",
            "\n",
            "    <div class=\"menu-btn\">\n",
            "        <div class=\"line-wrap\">\n",
            "            <span class=\"line-1\"></span>\n",
            "            <span class=\"line-2\"></span>\n",
            "            <span class=\"line-3\"></span>\n",
            "        </div>\n",
            "        <div>Menu</div>\n",
            "    </div>\n",
            "\n",
            "</div>\n",
            "\n",
            "<nav class=\"mobilenav\">\n",
            "    <!-- Module -->\n",
            "    <div class=\"m-menu\">\n",
            "        <ul id=\"accordion\" class=\"accordion\">\n",
            "            <li>\n",
            "                <div class=\"link\">關於明新</div>\n",
            "                <ul class=\"submenu\">\n",
            "                    <li><a href=\"https://www.must.edu.tw/about/about-4.php\" title=\"校史\">校史</a></li>\n",
            "                    <li><a href=\"https://www.must.edu.tw/about/about-2.php\" title=\"校訓\">校訓</a></li>\n",
            "                    <li><a href=\"https://www.must.edu.tw/about/about-3.php\" title=\"校歌\">校歌</a></li>\n",
            "                    <li><a href=\"https://www.must.edu.tw/about/about-18.php\" title=\"教育目標\">教育目標</a></li>\n",
            "                    <li><a href=\"https://www.must.edu.tw/about/about-16.php\" title=\"創校元老\">創校元老</a></li>\n",
            "                    <li><a href=\"http://webc1.must.edu.tw/mustj001\" title=\"董事會\">董事會</a></li>\n",
            "                    <li><a href=\"https://admin.must.edu.tw/index.aspx?UnitID=1184\" title=\"校長室\">校長室</a></li>\n",
            "                    <li><a href=\"https://admin.must.edu.tw/index.aspx?UnitID=1185\" title=\"副校長室\">副校長室</a></li>\n",
            "                    <li><a href=\"../ochart/1101201.pdf\" title=\"學校組織系統圖\">學校組織系統圖</a></li>\n",
            "                    <li><a href=\"https://www.must.edu.tw/about/mustmap.php\" title=\"如何到明新\">如何到明新</a></li>\n",
            "                    <li><a href=\"http://webc1.must.edu.tw/jtmust073/index.php/2017-01-20-03-50-06/2017-01-23-06-53-36\"\n",
            "                            title=\"校內平面圖\">校內平面圖</a></li>\n",
            "                </ul>\n",
            "            </li>\n",
            "\t\t\t\n",
            "\t\t\t<li><a href=\"https://www.must.edu.tw/hall-of-fame-img-list.php\" title=\"明新的驕傲\">明新的驕傲</a></li>\n",
            "\t\t\n",
            "\t\t\t\n",
            "\t\t\t\n",
            "\t\t\t\n",
            "            <li>\n",
            "                <div class=\"link\">學術單位</div>\n",
            "                <ul class=\"submenu\">\n",
            "                    <li class=\"inner\">\n",
            "                        <div class=\"link\">半導體學院</div>\n",
            "                        <ul class=\"submenu\">\n",
            "                            <li><a href=\"http://webc1.must.edu.tw/jtmust090\" title=\"半導體學院\">半導體學院</a></li>\n",
            "\t\t\t\t\t\t\t<li><a href=\"http://webc2.must.edu.tw/jtmust005\" title=\"電機工程系(學士班、碩士班)\">電機工程系(學士班、碩士班)</a></li>\n",
            "                            <li><a href=\"http://eed.must.edu.tw/\" title=\"電子工程系(學士班、碩士班)\">電子工程系(學士班、碩士班)</a></li>\t\t\t\t\t\t\t\n",
            "\t\t\t\t\t\t\t<li><a href=\"http://webc2.must.edu.tw/jtmust020/\" title=\"應用材料科技系(原化學工程與材料科技系)(學士班、碩士班)\">應用材料科技系(原化學工程與材料科技系)(學士班、碩士班)</a></li>\n",
            "\t\t\t\t\t\t\t<li><a href=\"http://webc2.must.edu.tw/jtmust012\" title=\"半導體與光電科技系(學士班、碩士班)\">半導體與光電科技系(原光電工程系)(學士班、碩士班)</a></li>\n",
            "                        </ul>\n",
            "                    </li>\n",
            "\t\t\t\t\t\n",
            "\t\t\t\t\t<li class=\"inner\">\n",
            "                        <div class=\"link\">工程學院</div>\n",
            "                        <ul class=\"submenu\">\n",
            "                            <li><a href=\"http://smart.must.edu.tw/\" title=\"工程學院\">工程學院</a></li>\n",
            "\t\t\t\t\t\t\t<li><a href=\"http://meu.must.edu.tw/\" title=\"機械工程系(學士班、精密機電工程碩士班)\">機械工程系(學士班、精密機電工程碩士班)</a></li>\n",
            "\t\t\t\t\t\t\t<li><a href=\"http://civil.must.edu.tw/\" title=\"土木工程與環境資源管理系(學士班、碩士班)\">土木工程與環境資源管理系(學士班、碩士班)</a></li>\n",
            "\t\t\t\t\t\t\t<li><a href=\"http://csie.must.edu.tw/\" title=\"資訊工程系(學士班)\">資訊工程系(學士班)</a></li>\n",
            "                        </ul>\n",
            "                    </li>\n",
            "\t\t\t\t\t\n",
            "\t\t\t\t\t\n",
            "                    <li class=\"inner\">\n",
            "                        <div class=\"link\">管理學院</div>\n",
            "                        <ul class=\"submenu\">\n",
            "\t\t\t\t\t\t\t<li><a href=\"http://webc2.must.edu.tw/jtmust015\"  title=\"管理學院\">管理學院</a></li>\n",
            "                            <li><a href=\"http://webc2.must.edu.tw/jtmust028\"  title=\"工業工程與管理系(學士班、碩士班)\">工業工程與管理系(學士班、碩士班)</a></li>\n",
            "                            <li><a href=\"http://www.im.must.edu.tw/\" title=\"資訊管理系(學士班、碩士班)\">資訊管理系(學士班、碩士班)</a></li>\n",
            "                            <li><a href=\"https://acade.must.edu.tw/index.aspx?UnitID=48\" title=\"行銷與流通管理系(學士班)\">行銷與流通管理系(學士班)</a></li>\n",
            "                            <li><a href=\"http://webc2.must.edu.tw/jtmust006\" title=\"企業管理系(學士班)\">企業管理系(學士班)</a></li>\n",
            "                            <li><a href=\"http://webc2.must.edu.tw/jtmust021\" title=\"財務金融系(學士班)\">財務金融系(學士班)</a></li>\n",
            "                            <li><a href=\"http://webc2.must.edu.tw/jtmust022\" title=\"管理研究所(碩士班)\">管理研究所(碩士班)</a></li>\n",
            "                            <!--<li><a href=\"http://webc2.must.edu.tw/jtmust013/\" title=\"全球運籌管理中心\">全球運籌管理中心</a></li>-->\n",
            "                        </ul>\n",
            "                    </li>\n",
            "                    <li class=\"inner\">\n",
            "                        <div class=\"link\">服務產業學院</div>\n",
            "                        <ul class=\"submenu\">\n",
            "\t\t\t\t\t\t\t<li><a href=\"https://acade.must.edu.tw/index.aspx?UnitID=52\" title=\"服務產業學院\">服務產業學院</a> </li>\n",
            "                            <li><a href=\"http://webc1.must.edu.tw/jtmust044\" title=\"服務產業暨管理研究所(碩士班)\">服務產業暨管理研究所(碩士班)</a> </li>\n",
            "                            <li><a href=\"http://webc2.must.edu.tw/jtmust019\" title=\"旅館管理與廚藝創意系(學士班)\">旅館管理與廚藝創意系(學士班)</a> </li>\n",
            "                            <li><a href=\"http://child.must.edu.tw/\" title=\"幼兒保育系(學士班、碩士班)\">幼兒保育系(學士班、碩士班)</a></li>\n",
            "                            <li><a href=\"http://webc2.must.edu.tw/jtmust101\" title=\"休閒事業管理系(學士班)\">休閒事業管理系(學士班)</a></li>\n",
            "                            <li><a href=\"http://webc2.must.edu.tw/jtmust010/\" title=\"樂齡服務產業管理系(學士班)\">樂齡服務產業管理系(學士班)</a>  </li>\n",
            "                            <li><a href=\"http://webc2.must.edu.tw/jtmust011\" title=\"師資培育中心\">師資培育中心</a></li>\n",
            "                        </ul>\n",
            "                    </li>\n",
            "                    <li class=\"inner\">\n",
            "                        <div class=\"link\">人文與設計學院</div>\n",
            "                        <ul class=\"submenu\">\n",
            "                            <li><a href=\"http://webc2.must.edu.tw/jtmust003\" title=\"人文與設計學院\">人文與設計學院</a> </li>\n",
            "\t\t\t\t\t\t\t<li><a href=\"http://webc1.must.edu.tw/jtmust067/\" title=\"應用外語系(學士班)\">應用外語系(學士班)</a></li>\n",
            "                            <li><a href=\"http://webc1.must.edu.tw/mustj004\" title=\"運動管理系(學士班)\">運動管理系(學士班)</a></li>\n",
            "                            <li><a href=\"http://webc2.must.edu.tw/jtmust102/\" title=\"多媒體與遊戲發展系(學士班)\">多媒體與遊戲發展系(學士班)</a>  </li>\n",
            "                            <li><a href=\"http://webc1.must.edu.tw/jtmust080\" title=\"時尚造型與設計系(學士班)\">時尚造型與設計系(學士班)</a>  </li>\n",
            "                            <li><a href=\"http://webc1.must.edu.tw/jtmust048/\" title=\"化妝品應用學士學位學程\">化妝品應用學士學位學程</a></li>\n",
            "\t\t\t\t\t\t\t\n",
            "                            <!--<li><a href=\"http://webc1.must.edu.tw/jtmust041\" title=\"華語文教學中心\">華語文教學中心</a></li>-->\n",
            "                            \n",
            "                        </ul>\n",
            "                    </li>\n",
            "                    <li class=\"inner\">\n",
            "                        <div class=\"link\">共同教育學院</div>\n",
            "                        <ul class=\"submenu\">\n",
            "                            <li><a href=\"http://webc1.must.edu.tw/mustj010\" title=\"共同教育學院\">共同教育學院</a></li>\n",
            "\t\t\t\t\t\t\t<li><a href=\"http://webc2.must.edu.tw/jtmust014\" title=\"通識教育中心\">通識教育中心</a></li>\n",
            "\t\t\t\t\t\t\t<!--<li><a href=\"http://webc1.must.edu.tw/jtmust081\" title=\"人文藝術教學中心\">人文藝術教學中心</a></li>\n",
            "                            <li><a href=\"http://webc1.must.edu.tw/jtmust082\" title=\"社會科學教學中心\">社會科學教學中心</a></li>\n",
            "                            <li><a href=\"http://webc1.must.edu.tw/jtmust083\" title=\"自然科學教學中心\">自然科學教學中心</a></li>\n",
            "                            <li><a href=\"http://webc1.must.edu.tw/jtmust084\" title=\"語言教學中心\">語言教學中心</a></li>-->\n",
            "                        </ul>\n",
            "                    </li>\n",
            "                </ul>\n",
            "            </li>\n",
            "            <li>\n",
            "                <div class=\"link\">行政單位</div>\n",
            "                <ul class=\"submenu\">\n",
            "                <li><a href=\"https://admin.must.edu.tw/index.aspx?UnitID=70\" title=\"稽核處\">稽核處</a></li>\n",
            "                <li><a href=\"https://admin.must.edu.tw/index.aspx?UnitID=71\" title=\"秘書處\">秘書處</a></li>\n",
            "                <li><a href=\"https://admin.must.edu.tw/index.aspx?UnitID=72\" title=\"公共關係處\">公共關係處</a></li>\n",
            "                <li><a href=\"http://webc1.must.edu.tw/jtmust059\" title=\"財務處\">財務處</a></li>\n",
            "                <li><a href=\"http://webc1.must.edu.tw/mustj007\" title=\"人力資源處\">人力資源處</a></li>\n",
            "                <li><a href=\"http://webc1.must.edu.tw/mustj005/\" title=\"法務處\">法務處</a></li>\n",
            "\t\t\t\t<li><a href=\"#\" title=\"原住民族教育發展處\">原住民族教育發展處</a></li>\n",
            "\t\t\t\t<li><a href=\"http://webs.must.edu.tw/ocmust012\" title=\"原住民族學生資源中心\">- 原住民族學生資源中心</a></li>\n",
            "                <li><a href=\"http://webs.must.edu.tw/ocmust120/\" title=\"大學社會責任辦公室(另開視窗)\">大學社會責任辦公室</a></li>    \n",
            "\t\t\t\t\t\n",
            "                    <li class=\"inner\">\n",
            "                        <div class=\"link\">教務處</div>\n",
            "                        <ul class=\"submenu\">\n",
            "                            <li><a href=\"https://admin.must.edu.tw/index.aspx?UnitID=81\" title=\"教務處\">教務處</a></li>\n",
            "\t\t\t\t\t\t\t<li><a href=\"http://webc2.must.edu.tw/jtmust029\" title=\"課務組\">課務組</a></li>\n",
            "\t\t\t\t\t\t\t<li><a href=\"https://admin.must.edu.tw/index.aspx?UnitID=83\" title=\"註冊組\">註冊組</a></li>\n",
            "\t\t\t\t\t\t\t<li><a href=\"https://admin.must.edu.tw/index.aspx?UnitID=84\" title=\"教學發展中心\">教學發展中心</a></li>\n",
            "\t\t\t\t\t\t\t<li><a href=\"https://admin.must.edu.tw/index.aspx?UnitID=85\" title=\"學生實習服務中心\">學生實習服務中心</a></li>\n",
            "\t\t\t\t\t\t\t<li><a href=\"https://admin.must.edu.tw/index.aspx?UnitID=107\" title=\"進修教務組(另開視窗)\">進修教務組</a></li>\n",
            "\t\t\t\t\t\t\t<li><a href=\"https://admin.must.edu.tw/view/content.aspx?UnitID=81&id=5559&tp=menu\" title=\"ROTC專案辦公室(另開視窗)\">ROTC專案辦公室</a></li>\n",
            "                        </ul>\n",
            "                    </li>\n",
            "                    <li class=\"inner\">\n",
            "                        <div class=\"link\">學生事務處</div>\n",
            "                        <ul class=\"submenu\">\n",
            "                            <li><a href=\"https://admin.must.edu.tw/index.aspx?UnitID=86\" title=\"學生事務處\">學生事務處</a></li>\n",
            "\t\t\t\t\t\t\t<li><a href=\"https://admin.must.edu.tw/index.aspx?UnitID=87\" title=\"生活輔導組\">生活輔導組</a></li>\n",
            "\t\t\t\t\t\t\t<li><a href=\"https://admin.must.edu.tw/index.aspx?UnitID=88\" title=\"課外活動指導組\">課外活動指導組</a></li>\n",
            "\t\t\t\t\t\t\t<li><a href=\"https://admin.must.edu.tw/index.aspx?UnitID=89\" title=\"衛生保健組\">衛生保健組</a></li>\n",
            "\t\t\t\t\t\t\t<li><a href=\"https://admin.must.edu.tw/index.aspx?UnitID=90\" title=\"體育室\">體育室</a></li>\n",
            "\t\t\t\t\t\t\t<li><a href=\"https://admin.must.edu.tw/index.aspx?UnitID=91\" title=\"諮商輔導暨職涯發展中心\">諮商輔導暨職涯發展中心</a></li>\n",
            "\t\t\t\t\t\t\t<li><a href=\"https://admin.must.edu.tw/index.aspx?UnitID=92\" title=\"諮商輔導暨職涯發展中心[資源教室]\">諮商輔導暨職涯發展中心[資源教室]</a></li>\n",
            "\t\t\t\t\t\t\t<li><a href=\"https://admin.must.edu.tw/index.aspx?UnitID=93\" title=\"校安中心\">校安中心</a>\n",
            "\t\t\t\t\t\t\t<li><a href=\"https://admin.must.edu.tw/index.aspx?UnitID=108\" title=\"進修學務組(另開視窗)\">進修學務組</a></li>\n",
            "                        </ul>\n",
            "                    </li>\n",
            "                    <li class=\"inner\">\n",
            "                        <div class=\"link\">總務處</div>\n",
            "                        <ul class=\"submenu\">\n",
            "                            <li><a href=\"https://admin.must.edu.tw/index.aspx?UnitID=94\" title=\"總務處\">總務處</a></li>\n",
            "\t\t\t\t\t\t\t<li><a href=\"https://admin.must.edu.tw/index.aspx?UnitID=95\" title=\"文書組\">文書組</a></li>\n",
            "\t\t\t\t\t\t\t<li><a href=\"https://admin.must.edu.tw/index.aspx?UnitID=96\" title=\"事務組\">事務組</a></li>\n",
            "\t\t\t\t\t\t\t<li><a href=\"https://admin.must.edu.tw/index.aspx?UnitID=97\" title=\"出納組\">出納組</a></li>\n",
            "\t\t\t\t\t\t\t<li><a href=\"https://admin.must.edu.tw/index.aspx?UnitID=98\" title=\"營繕組\">營繕組</a></li>\n",
            "\t\t\t\t\t\t\t<li><a href=\"https://admin.must.edu.tw/index.aspx?UnitID=99\" title=\"採購組\">採購組</a></li>\n",
            "\t\t\t\t\t\t\t<li><a href=\"https://admin.must.edu.tw/index.aspx?UnitID=100\" title=\"保管組\">保管組</a></li>\n",
            "\t\t\t\t\t\t\t<li><a href=\"https://admin.must.edu.tw/index.aspx?UnitID=101\" title=\"環境安全衛生中心\">環境安全衛生中心</a></li>\n",
            "                        </ul>\n",
            "                    </li>\n",
            "                    \n",
            "\t\t\t\t\t<li class=\"inner\">\n",
            "                        <div class=\"link\">進修推廣處</div>\n",
            "                        <ul class=\"submenu\">\n",
            "\t\t\t\t\t\t\t<li><a href=\"http://webc2.must.edu.tw/jtmust040/\" title=\"進修推廣處\">進修推廣處</a></li>\n",
            "\t\t\t\t\t\t\t<!--<li><a href=\"http://webc2.must.edu.tw/jtmust039\" title=\"進修推廣處課務註冊組\">進修推廣處課務註冊組</a></li>\n",
            "\t\t\t\t\t\t\t<li><a href=\"http://webc2.must.edu.tw/jtmust036\" title=\"進修推廣處綜合事務組\">進修推廣處綜合事務組</a></li>-->\n",
            "\t\t\t\t\t\t\t<li><a href=\"http://eec.must.edu.tw/\" title=\"推廣教育中心\">推廣教育中心</a></li>\n",
            "\t\t\t\t\t\t\t<li><a href=\"https://admin.must.edu.tw/index.aspx?UnitID=1218\" title=\"國軍人才培育中心\">國軍人才培育中心</a></li>\n",
            "                        </ul>\n",
            "                    </li>\n",
            "\t\t\t\t\t\n",
            "\t\t\t\t\t<li class=\"inner\">\n",
            "                        <div class=\"link\">圖書資訊處</div>\n",
            "                        <ul class=\"submenu\">\n",
            "\t\t\t\t\t\t\n",
            "\t\t\t\t\t\t<li><a href=\"https://admin.must.edu.tw/index.aspx?UnitID=74\" target=\"_blank\" title='系統維運組-將另開新視窗(另開視窗)'>系統維運組</a> </li>\n",
            "\t\t\t\t\t\t<li><a href=\"https://admin.must.edu.tw/index.aspx?UnitID=74\" title=\"技術服務組(另開視窗)\">技術服務組</a></li>\n",
            "\t\t\t\t\t\t<li><a href=\"https://admin.must.edu.tw/index.aspx?UnitID=74\" title=\"圖書資源服務組(另開視窗)\">圖書資源服務組</a></li>\n",
            "\t\t\t\t\t\t<li><a href=\"http://webc2.must.edu.tw/jtmust008\" title=\"藝文中心(另開視窗)\">藝文中心</a></li>\n",
            "                 \t\t\n",
            "                        </ul>\n",
            "                    </li>\n",
            "\t\t\t\t\t\n",
            "\t\t\t\t\t\n",
            "\t\t\t\t\t<li class=\"inner\">\n",
            "                        <div class=\"link\">研究發展處</div>\n",
            "                        <ul class=\"submenu\">\n",
            "\t\t\t\t\t\t\t<li><a href=\"https://admin.must.edu.tw/index.aspx?UnitID=115\" title=\"研究發展處\">研究發展處</a></li>\n",
            "\t\t\t\t\t\t\t<li><a href=\"https://admin.must.edu.tw/index.aspx?UnitID=116\" title=\"校務研究中心\">校務研究中心</a></li>\n",
            "\t\t\t\t\t\t\t<li><a href=\"https://admin.must.edu.tw/index.aspx?UnitID=117\" title=\"校務企劃中心\">校務企劃中心</a></li>\n",
            "\t\t\t\t\t\t\t<li><a href=\"https://admin.must.edu.tw/index.aspx?UnitID=118\" title=\"研究與技術中心\">研究技術中心</a></li>\n",
            "\t\t\t\t\t\t\t\n",
            "                        </ul>\n",
            "                    </li>\n",
            "\t\t\t\t\t\n",
            "\t\t\t\t\t<li class=\"inner\">\n",
            "                        <div class=\"link\">產學營運處</div>\n",
            "                        <ul class=\"submenu\">\n",
            "                            <li><a href=\"https://admin.must.edu.tw/index.aspx?UnitID=119\" target=\"_blank\" title='產學營運處-將另開新視窗'>產學營運處</a> </li>\n",
            "\t\t\t\t\t\t\t<li><a href=\"http://webs.must.edu.tw/ocmust018/\" target=\"_blank\" title='防災中心-將另開新視窗'>防災技術研究中心</a> </li>\n",
            "\t\t\t\t\t\t\t<li><a href=\"https://admin.must.edu.tw/index.aspx?UnitID=122\" title=\"產學及技術移轉中心\">產學及技術移轉中心</a></li>\n",
            "\t\t\t\t\t\t\t<li><a href=\"http://webc1.must.edu.tw/jtmust047\" title=\"創新育成中心\">創新育成中心</a></li>\n",
            "\t\t\t\t\t\t\t<li><a href=\"https://admin.must.edu.tw/index.aspx?UnitID=124\" title=\"校友服務中心(另開視窗)\">校友服務中心</a></li>\n",
            "                        </ul>\n",
            "                    </li>\n",
            "                    \n",
            "\t\t\t\t\t<li class=\"inner\">\n",
            "                        <div class=\"link\">國際暨兩岸事務處</div>\n",
            "                        <ul class=\"submenu\">\n",
            "                            <li><a href=\"https://admin.must.edu.tw/index.aspx?UnitID=110\" title=\"國際暨兩岸事務處\">國際暨兩岸事務處</a></li>\n",
            "\t\t\t\t\t\t\t<li><a href=\"https://admin.must.edu.tw/index.aspx?UnitID=111\" title=\"國際暨兩岸教育中心\">國際暨兩岸教育中心</a></li>\n",
            "                            <li><a href=\"http://webc2.must.edu.tw/jtmust031\" title=\"境外生輔導與服務中心\">境外生輔導與服務中心</a></li>\n",
            "\t\t\t\t\t\t\t<li><a href=\"https://admin.must.edu.tw/index.aspx?UnitID=113\" title=\"華語文教學中心\">華語文教學中心</a></li>\n",
            "\t\t\t\t\t\t\t<li><a href=\"https://admin.must.edu.tw/index.aspx?UnitID=114\" title=\"新住民教育發展中心\">新住民教育發展中心</a></li>\n",
            "                        </ul>\n",
            "                    </li>\n",
            "\t\t\t\t\t\n",
            "\t\t\t\t\t<li class=\"inner\">\n",
            "                        <div class=\"link\">入學服務處</div>\n",
            "                        <ul class=\"submenu\">\n",
            "                            <li><a href=\"http://admission.must.edu.tw/\" target=\"_blank\" title='入學服務處-將另開新視窗'>入學服務處</a> </li>\n",
            "\t\t\t\t\t\t\t<li><a href=\"https://admission.must.edu.tw/view/list.aspx?id=9\" title=\"選才辦公室\">選才辦公室</a></li>\n",
            "\t\t\t\t\t\t\t<li><a href=\"https://admission.must.edu.tw/view/list.aspx?id=9\" title=\"教育行銷組\">教育行銷組</a></li>\n",
            "\t\t\t\t\t\t\t<li><a href=\"https://admission.must.edu.tw/view/list.aspx?id=9\" title=\"行政事務組\">行政事務組</a></li>\n",
            "                   \n",
            "                        </ul>\n",
            "                    </li>\n",
            "\t\t\t\t\t\n",
            "\t\t\t\t\t<li class=\"inner\">\n",
            "                        <div class=\"link\">原住民族教育發展處</div>\n",
            "                        <ul class=\"submenu\">\n",
            "                            <li><a href=\"#\" target=\"_blank\" title='原住民族教育發展處-將另開新視窗'>原住民族教育發展處</a> </li>\n",
            "\t\t\t\t\t\t\t<li><a href=\"http://webs.must.edu.tw/ocmust012\" title=\"原住民族學生資源中心\">- 原住民族學生資源中心</a></li>\n",
            "                   \n",
            "                        </ul>\n",
            "                    </li>\n",
            "\t\t\t\t\t\n",
            "                </ul>\n",
            "            </li>\n",
            "            <li><a href=\"https://www.must.edu.tw/admissions.php\" title=\"\">招生資訊</a></li>\n",
            "            \n",
            "\t\t\t<!--<li>\n",
            "                <div class=\"link\">線上服務</div>\n",
            "                <ul class=\"submenu\">\n",
            "                    <li><a href=\"https://www.must.edu.tw/faq.php\" title=\"常見問答\">常見問答</a></li>\n",
            "                    <li><a href=\"https://sss.must.edu.tw/std_service.html\" title=\"學生專區\">學生專區</a></li>\n",
            "                    <li><a href=\"https://sss.must.edu.tw/teach_service.html\" title=\"教職員專區\">教職員專區</a></li>\n",
            "                    <li><a href=\"https://www.must.edu.tw/download.php\" title=\"檔案下載\">檔案下載</a></li>\n",
            "                    <li><a href=\"https://www.must.edu.tw/qa.php\" title=\"網站問題反映\">網站問題反映</a></li>\n",
            "                    <li><a href=\"mailto://president@must.edu.tw;secretariat.must@must.edu.tw;chen083487@must.edu.tw\"\n",
            "                            title=\"校長信箱\">校長信箱</a></li>\n",
            "                    <li><a href=\"https://www.must.edu.tw/calendar.php\" title=\"校園行事曆\">校園行事曆</a></li>\n",
            "                </ul>\n",
            "            </li>-->\n",
            "            \n",
            "\t\t\t<li><a href=\"http://webs.must.edu.tw/jtmust060\" title=\"\">弱勢助學勸募</a></li>\n",
            "        </ul>\n",
            "        <div class=\"search\">\n",
            "            <form id=\"search\" method=\"get\" action=\"https://www.google.com/custom\" target=\"_blank\"\n",
            "                style=\"border: 0 !important;\">\n",
            "                <input type=\"hidden\" name=\"client\" value=\"pub-&amp;amp\">\n",
            "                <input type=\"hidden\" name=\"ie\" id=\"ie\" value=\"utf-8\">\n",
            "                <input type=\"hidden\" name=\"oe\" id=\"oe\" value=\"utf-8\">\n",
            "                <input type=\"hidden\" name=\"domains\" value=\"www.must.edu.tw\">\n",
            "                <input type=\"hidden\" name=\"sitesearch\" value=\"www.must.edu.tw\">\n",
            "                <label style=\"display:none;\" for=\"q\">Google Search</label>\n",
            "                <label style=\"display:none;\" for=\"q\">請輸入關鍵字</label><input type=\"text\" placeholder=\"請輸入關鍵字\" name=\"q\"\n",
            "                    id=\"q\"><button>搜尋</button>\n",
            "            </form>\n",
            "        </div>\n",
            "        <div class=\"topnav\">\n",
            "            <ul class=\"nav\">\n",
            "                <li><a href=\"https://www.must.edu.tw/index.php\" title=\"首頁\">首頁</a></li>\n",
            "                <li><a href=\"http://webc1.must.edu.tw/jtmust062/index.php/news/mustepaper\" title=\"電子報\">電子報</a></li>\n",
            "                <li><a href=\"https://sites.google.com/site/mustfreshman\" title=\"新生專區\">新生專區</a></li>\n",
            "                <li><a href=\"https://sss.must.edu.tw/pars_new/pars_index.asp\" title=\"學生家長\">學生家長</a></li>\n",
            "                <li><a href=\"https://www.must.edu.tw/contact.php\" title=\"聯絡我們\">聯絡我們</a></li>\n",
            "                \n",
            "\t\t\t\t<li><a href=\"https://www.must.edu.tw//calendar.php\" title=\"校園行事曆\">校園行事曆</a></li>\n",
            "\t\t\t\t<li><a href=\"http://www.lib.must.edu.tw/\" title=\"圖書館\">圖書館</a></li>\n",
            "\t\t\t\t<li><a href=\"http://webs.must.edu.tw/must055/\" title=\"明新55校慶\" target=\"_blank\">明新55校慶</a></li>\n",
            "\t\t\t\t<li><a href=\"https://www.must.edu.tw/servies.php\" title=\"線上服務\">線上服務</a></li>\n",
            "                <li><a href=\"https://www.must.edu.tw/sitemap.php\" title=\"網站導覽\">網站導覽</a></li>\n",
            "\t\t\t\t<li><a href=\"http://fg.must.edu.tw/\" title=\"English\">English</a></li>\n",
            "\t\t\t\t\n",
            "            </ul>\n",
            "        </div>\n",
            "    </div>\n",
            "</nav>\n",
            "\n",
            "<script type=\"text/javascript\">\n",
            "    window.onload = function () {\n",
            "        width = window.innerWidth;\n",
            "        $('.menu-btn').click(function () {\n",
            "            $('.mobilenav').toggleClass('open');\n",
            "            $(this).toggleClass('close-btn line');\n",
            "        });\n",
            "\n",
            "        var Accordion = function (el, multiple) {\n",
            "            this.el = el || {};\n",
            "            this.multiple = multiple || false;\n",
            "\n",
            "            // Variables privadas\n",
            "            var links = this.el.find('.link');\n",
            "            // Evento\n",
            "            links.on('click', {\n",
            "                el: this.el,\n",
            "                multiple: this.multiple\n",
            "            }, this.dropdown)\n",
            "        }\n",
            "\n",
            "        Accordion.prototype.dropdown = function (e) {\n",
            "            var $el = e.data.el;\n",
            "            $this = $(this),\n",
            "                $next = $this.next();\n",
            "\n",
            "            $next.slideToggle();\n",
            "            $this.parent().toggleClass('open');\n",
            "\n",
            "            if (!$this.parent().hasClass('inner')) {\n",
            "                $.each($el.find('.open > .submenu > .inner > .link'), function (i, val) {\n",
            "                    val.className = \"link\";\n",
            "                    if (!val.classList.contains('sub-open')) {\n",
            "                        val.classList.remove('sub-close');\n",
            "                        val.classList.add('sub-open');\n",
            "                    } else {\n",
            "                        val.classList.remove('sub-open');\n",
            "                        val.classList.add('sub-close');\n",
            "                    }\n",
            "                });\n",
            "            } else {\n",
            "                if ($this.hasClass(\"sub-open\")) {\n",
            "                    $this.removeClass('sub-open');\n",
            "                    $this.addClass('sub-close');\n",
            "                } else {\n",
            "                    $this.removeClass('sub-close');\n",
            "                    $this.addClass('sub-open');\n",
            "                }\n",
            "            }\n",
            "\n",
            "            if (!e.data.multiple && !$this.parent().hasClass(\"inner\")) {\n",
            "                $el.find('.submenu').not($next).slideUp().parent().removeClass('open');\n",
            "            };\n",
            "        }\n",
            "        var accordion = new Accordion($('#accordion'), false);\n",
            "    };\n",
            "\n",
            "    window.onresize = function () {\n",
            "        $('.mobilenav').removeClass('open');\n",
            "        $('.menu-btn').removeClass('close-btn line');\n",
            "    };\n",
            "</script><header>\n",
            "  <div class=\"header container d-none d-xl-block\">\n",
            "    <div class=\"for_accessibility\">\n",
            "      <a href=\"#content\" class=\"sr-only sr-only-focusable\" title=\"跳到主要內容區塊\">\n",
            "        跳到主要內容區塊</a>\n",
            "    </div>\n",
            "    <div class=\"logo\"><a href=\"https://www.must.edu.tw/\"><img src=\"https://www.must.edu.tw/images/ui/400C.png\" alt=\"左上角-明新科大logo\"></a>\n",
            "    </div>\n",
            "    <div class=\"topnav\">\n",
            "      <ul class=\"nav\">\n",
            "        <li><a accesskey=\"U\" href=\"#accesskeyU\" title=\"上方導覽區\" name=\"accesskeyU\">:::</a></li>\n",
            "        <li><a href=\"https://www.must.edu.tw/index.php\" title=\"首頁\">首頁</a></li>\n",
            "        <li><a href=\"https://sss.must.edu.tw/pars_new/pars_index.asp\" title=\"學生家長(另開視窗)\">學生家長</a></li>\n",
            "\t\t<li><a href=\"https://www.must.edu.tw/calendar.php\" title=\"校園行事曆\">校園行事曆</a></li>\n",
            "\t\t<li><a href=\"http://www.lib.must.edu.tw/\" title=\"圖書館(另開視窗)\">圖書館</a></li>\n",
            "\t\t<li><a href=\"http://webs.must.edu.tw/jtmust060\" title=\"弱勢助學勸募(另開視窗)\">弱勢助學勸募</a></li>\n",
            "\t\t<li><a href=\"http://webs.must.edu.tw/must055/\" title=\"明新55校慶\" target=\"_blank\">明新55校慶</a></li>\n",
            "\t\t<li><a href=\"http://webc1.must.edu.tw/jtmust062/index.php/news/mustepaper\" title=\"電子報(另開視窗)\">電子報</a></li>\n",
            "        <li><a href=\"https://www.must.edu.tw/sitemap.php\" title=\"網站導覽\">網站導覽</a></li>\n",
            "\t\t<li><a href=\"https://www.must.edu.tw/contact.php\" title=\"聯絡我們\">聯絡我們</a></li>\n",
            "\t\t<li><a href=\"http://fg.must.edu.tw/\" title=\"English(open new window)\">English</a></li>\n",
            "\t\t\n",
            "\t\t\n",
            "      </ul>\n",
            "    </div>\n",
            "    <div class=\"search\">\n",
            "      <form id=\"search\" method=\"get\" action=\"https://www.google.com/custom\" target=\"_blank\"\n",
            "        style=\"border: 0 !important;\">\n",
            "        <input type=\"hidden\" name=\"client\" value=\"pub-&amp;amp\">\n",
            "        <input type=\"hidden\" name=\"ie\" id=\"ie\" value=\"utf-8\">\n",
            "        <input type=\"hidden\" name=\"oe\" id=\"oe\" value=\"utf-8\">\n",
            "        <input type=\"hidden\" name=\"domains\" value=\"must.edu.tw\">\n",
            "        <input type=\"hidden\" name=\"sitesearch\" value=\"must.edu.tw\">\n",
            "        <label style=\"display:none;\" for=\"q\">Google Search</label>\n",
            "        <label style=\"display:none;\" for=\"q\">請輸入關鍵字</label><input type=\"text\"  accesskey=\"S\" placeholder=\"請輸入關鍵字\" name=\"q\"\n",
            "          id=\"q\"><button>搜尋</button>\n",
            "      </form>\n",
            "    </div>\n",
            "  </div>\n",
            "  <div class=\"mainmenu d-none d-xl-block\">\n",
            "    <div class=\"container\">\n",
            "      <ul class=\"nav\">\n",
            "        <li><a href=\"https://www.must.edu.tw/about/aboutmust.php\" title=\"\">關於明新</a>\n",
            "          <ul>\n",
            "            <li><a href=\"https://www.must.edu.tw/about/about-4.php\" title=\"校史\">校史</a></li>\n",
            "            <li><a href=\"https://www.must.edu.tw/about/about-2.php\" title=\"校訓\">校訓</a></li>\n",
            "            <li><a href=\"https://www.must.edu.tw/about/about-3.php\" title=\"校歌\">校歌</a></li>\n",
            "            <li><a href=\"https://www.must.edu.tw/about/about-18.php\" title=\"教育目標\">教育目標</a></li>\n",
            "            <li><a href=\"https://www.must.edu.tw/about/about-16.php\" title=\"創校元老\">創校元老</a></li>\n",
            "            <li><a href=\"http://webc1.must.edu.tw/mustj001\" target=\"_blank\" title=\"董事會(另開視窗)\">董事會</a></li>\n",
            "            <li><a href=\"https://admin.must.edu.tw/index.aspx?UnitID=1184\" target=\"_blank\" title=\"校長室(另開視窗)\">校長室</a></li>\n",
            "            <li><a href=\"https://admin.must.edu.tw/index.aspx?UnitID=1185\" target=\"_blank\" title=\"副校長室(另開視窗)\">副校長室</a></li>\n",
            "            <li><a href=\"../ochart/1101201.pdf\" target=\"_blank\" title=\"學校組織系統圖pdf(另開視窗)\">學校組織系統圖</a></li>\n",
            "            <li><a href=\"https://www.must.edu.tw/about/mustmap.php\" title=\"如何到明新\">如何到明新</a></li>\n",
            "            <li><a href=\"http://webc1.must.edu.tw/jtmust073/index.php/2017-01-20-03-50-06/2017-01-23-06-53-36\"\n",
            "                target=\"_blank\" title=\"校內平面圖(另開視窗)\">校內平面圖</a></li>\n",
            "\n",
            "            <!--\n",
            "            <li><a href=\"about.php\" title=\"關於明新\">關於明新</a></li>\n",
            "            <li><a href=\"faq.php\" title=\"常見問答\">常見問答</a></li>\n",
            "            <li><a href=\"download.php\" title=\"檔案下載\">檔案下載</a></li>\n",
            "            <li><a href=\"customer-overview.php\" title=\"訪客專區\">訪客專區</a></li>\n",
            "            <li><a href=\"learning-overview-a.php\" title=\"學術行政a\">學術行政a</a></li>\n",
            "            <li><a href=\"learning-overview-b.php\" title=\"學術行政b\">學術行政b</a></li>\n",
            "            <li><a href=\"contact.php\" title=\"聯絡表單\">聯絡表單</a></li>\n",
            "            <li><a href=\"sitemap.php\" title=\"網站導覽\">網站導覽</a></li>\n",
            "            -->\n",
            "          </ul>\n",
            "        </li>\n",
            "\t\t\n",
            "\t\t <!--<li><a href=\"https://www.must.edu.tw/admissions.php\" title=\"\">招生資訊</a></li>-->\n",
            "        <li class=\"big-menu\"><a href=\"https://www.must.edu.tw/admissions.php\" title=\"招生資訊(另開視窗)\">招生資訊</a>\n",
            "          <ul class=\"row\">\n",
            "\t\t\t\n",
            "\t\t\t<li class=\"col-2\">\n",
            "              <ul>\n",
            "                <li><a href=\"http://admission.must.edu.tw/\" title=\"入學服務處(另開視窗)\">入學服務處</a></li>\n",
            "\t\t\t\t<li><a href=\"https://admission.must.edu.tw/view/list.aspx?id=9\" title=\"選才辦公室\">-選才辦公室</a></li>\n",
            "                <li><a href=\"https://admission.must.edu.tw/view/list.aspx?id=9\" title=\"教育行銷組\">-教育行銷組</a></li>\n",
            "\t\t\t\t<li><a href=\"https://admission.must.edu.tw/view/list.aspx?id=9\" title=\"行政事務組\">-行政事務組</a></li>\n",
            "\t\t\t\t\n",
            "\t\t\t\t</li>\n",
            "                \n",
            "              </ul>\n",
            "            </li>\n",
            "            <div class=\"col-10\">\n",
            "              <div class=\"row\">\n",
            "\t\t\t\n",
            "\t\t\t\n",
            "\t\t\t\n",
            "\t\t\t\n",
            "\n",
            "            <li class=\"col-4\" style=\"padding-bottom: 150px;\">\n",
            "              <div class=\"title\"><a href=\"#\" title=\"研究所招生訊息(另開視窗)\">研究所招生訊息</a></div>\n",
            "              <ul>\n",
            "                <li><a href=\"https://admission.must.edu.tw/admission/index.aspx?id=8\" title=\"碩士班甄試入學(另開視窗)\">碩士班甄試入學</a></li>\n",
            "                <li><a href=\"https://admission.must.edu.tw/admission/index.aspx?id=9\" title=\"碩士班暨碩士在職專班招生(另開視窗)\">碩士班暨碩士在職專班招生</a></li>\n",
            "\t\t\t\t<li><a href=\"https://admission.must.edu.tw/admission/index.aspx?id=42\" title=\"原住民管理碩士在職專班(另開視窗)\">原住民管理碩士在職專班</a></li>\n",
            "\t\t\t\t<li><a href=\"https://admission.must.edu.tw/admission/index.aspx?id=40\" title=\"新住民單獨招生(另開視窗)\">新住民單獨招生</a></li>\n",
            "\t\t\t\t\n",
            "              </ul>\n",
            "            </li>\n",
            "            <li class=\"col-4\" style=\"padding-bottom: 350px;\">\n",
            "              <div class=\"title\"><a href=\"#\" title=\"日間部招生訊息(另開視窗)\">日間部招生訊息</a></div>\n",
            "              <ul>\n",
            "                <li><a href=\"https://admission.must.edu.tw/admission/index.aspx?id=12\" title=\"原住民專班單獨招生(另開視窗)\">原住民專班單獨招生</a></li>\n",
            "\t\t\t\t<li><a href=\"https://admission.must.edu.tw/admission/index.aspx?id=10\" title=\"高中生申請入學(另開視窗)\">高中生申請入學</a></li>\n",
            "                <li><a href=\"https://admission.must.edu.tw/admission/index.aspx?id=11\" title=\"運動績優單獨招生(另開視窗)\">運動績優單獨招生</a></li>\n",
            "                \n",
            "\t\t\t\t<li><a href=\"https://admission.must.edu.tw/admission/index.aspx?id=32\" title=\"四年制日間部單獨招生(另開視窗)\">四年制日間部單獨招生</a></li>\n",
            "                <li><a href=\"https://admission.must.edu.tw/admission/index.aspx?id=13\" title=\"科技校院繁星計畫招生(另開視窗)\">科技校院繁星計畫招生</a></li>\n",
            "                <li><a href=\"https://admission.must.edu.tw/admission/index.aspx?id=14\" title=\"特殊選才(另開視窗)\">特殊選才</a></li>\n",
            "                <li><a href=\"https://admission.must.edu.tw/admission/index.aspx?id=15\" title=\"技優甄審入學(另開視窗)\">技優甄審入學</a></li>\n",
            "                <li><a href=\"https://admission.must.edu.tw/admission/index.aspx?id=16\" title=\"甄選入學(另開視窗)\">甄選入學</a></li>\n",
            "                <li><a href=\"https://admission.must.edu.tw/admission/index.aspx?id=17\" title=\"聯合登記分發(另開視窗)\">聯合登記分發</a></li>\n",
            "                <li><a href=\"https://admission.must.edu.tw/admission/index.aspx?id=18\" title=\"身心障礙學生甄試入學(另開視窗)\">身心障礙學生甄試入學</a></li>\n",
            "                <!--<li><a href=\"https://admission.must.edu.tw/admission/index.aspx?id=19\" title=\"境外臺生因應疫情返台就學銜接專案計畫(另開視窗)\">境外臺生因應疫情返台就學銜接專案計畫</a></li>-->\n",
            "                <li><a href=\"https://admission.must.edu.tw/admission/index.aspx?id=20\" title=\"儲備軍官訓練團(ROTC)招生(另開視窗)\">儲備軍官訓練團(ROTC)招生</a></li>\n",
            "\t\t\t\t<li><a href=\"https://admission.must.edu.tw/admission/index.aspx?id=33\" title=\"新住民及其子女招生(另開視窗)\">新住民及其子女招生</a></li>\n",
            "\t\t\t\t<li><a href=\"https://admission.must.edu.tw/admission/index.aspx?id=40\" title=\"新住民單獨招生(另開視窗)\">新住民單獨招生</a></li>\n",
            "              </ul>\n",
            "            </li>\n",
            "\n",
            "            <li class=\"col-4\">\n",
            "              <div class=\"title\"><a href=\"#\" title=\"進修部招生訊息\">進修部招生訊息</a></div>\n",
            "              <ul>\n",
            "                <li><a href=\"https://admission.must.edu.tw/admission/index.aspx?id=21\"  title=\"二技招生(含四班二輪招生)(另開視窗)\">二技招生(含四班二輪招生)</a></li>\n",
            "                <li><a href=\"https://admission.must.edu.tw/admission/index.aspx?id=22\"   title=\"四技二專招生(含四班二輪招生)(另開視窗)\">四技二專招生(含四班二輪招生)</a></li>\n",
            "                <li><a href=\"https://admission.must.edu.tw/admission/index.aspx?id=23\" title=\"學士後學士班(另開視窗)\">學士後學士班</a> </li>\n",
            "                <li><a href=\"https://admission.must.edu.tw/admission/index.aspx?id=24\" title=\"應屆高中生(另開視窗)\">應屆高中生</a> </li>\n",
            "                <li><a href=\"https://admission.must.edu.tw/admission/index.aspx?id=25\" title=\"儲備軍官訓練團(ROTC)招生(另開視窗)\">儲備軍官訓練團(ROTC)招生</a></li>\n",
            "\t\t\t\t<li><a href=\"https://admission.must.edu.tw/admission/index.aspx?id=33\" title=\"新住民及其子女招生(另開視窗)\">新住民及其子女招生</a></li>\n",
            "\t\t\t\t<li><a href=\"https://admission.must.edu.tw/admission/index.aspx?id=40\" title=\"新住民單獨招生(另開視窗)\">新住民單獨招生</a></li>\n",
            "              </ul>\n",
            "            </li>\n",
            "\n",
            "            <li class=\"col-4\">\n",
            "              <div class=\"title\"><a href=\"#\" title=\"產學訓及產學攜手計畫招生訊息(另開視窗)\">產學訓及產學攜手計畫招生訊息</a></div>\n",
            "              <ul>\n",
            "                <!--<li><a href=\"https://admission.must.edu.tw/admission/index.aspx?id=26\" title=\"雙軌旗艦計畫專班(另開視窗)\">雙軌旗艦計畫專班</a></li>-->\n",
            "                <li><a href=\"https://admission.must.edu.tw/admission/index.aspx?id=27\" title=\"產學訓專班(另開視窗)\">產學訓專班</a></li>\n",
            "                <li><a href=\"https://admission.must.edu.tw/admission/index.aspx?id=28\" title=\"產學攜手產業專班(另開視窗)\">產學攜手產業專班</a></li>\n",
            "                <li><a href=\"https://admission.must.edu.tw/admission/index.aspx?id=29\" title=\"2+2N封裝測試產業專班(另開視窗)\">2+2N封裝測試產業專班</a></li>\n",
            "              </ul>\n",
            "            </li>\n",
            "\n",
            "            <li class=\"col-4\">\n",
            "              <div class=\"title\"><a href=\"#\" title=\"外國學生招生訊息(另開視窗)\">外國學生招生訊息International Student Zone</a></div>\n",
            "              <ul>\n",
            "                <li><a href=\"http://fg.must.edu.tw/english/01_about/01_about.aspx?fid=7\"\n",
            "                    title=\"入學資訊Admission(另開視窗)\">入學資訊Admission</a></li>\n",
            "               \n",
            "              </ul>\n",
            "            </li>\n",
            "\n",
            "            <li class=\"col-4\">\n",
            "              <div class=\"title\"><a href=\"#\" title=\"轉學招生資訊(另開視窗)\">轉學招生資訊</a></div>\n",
            "              <ul>\n",
            "                <li><a href=\"https://admission.must.edu.tw/admission/index.aspx?id=31\" title=\"轉學招生資訊(另開視窗)\">轉學招生資訊</a></li>\n",
            "              </ul>\n",
            "            </li>\n",
            "\n",
            "            <!--<li class=\"col-2\">\n",
            "\t\t\t<ul>\n",
            "                <li><a href=\"http://webs.must.edu.tw/ocmust104/\" title=\"轉學招生資訊\">轉學招生資訊</a></li>\n",
            "\t\t\t</ul>-->\n",
            "\t\t\t\n",
            "\t\t\t\n",
            "\t\t\t</div>\n",
            "            </div>\t\n",
            "          </ul>\n",
            "        </li>\n",
            "\t\t\n",
            "\t\t\n",
            "\t\t\n",
            "        <li class=\"big-menu\"><a href=\"https://www.must.edu.tw/acade.php\" title=\"\">學術單位</a>\n",
            "          <ul class=\"row\">\n",
            "\t\t  \n",
            "\t\t   <li class=\"col-4\">\n",
            "              <div class=\"title\"><a href=\"http://webc1.must.edu.tw/jtmust090\" title=\"半導體學院(另開視窗)\">半導體學院</a></div>\n",
            "              <ul>\n",
            "                <li><a href=\"http://webc2.must.edu.tw/jtmust005\" title=\"電機工程系(學士班、碩士班)(另開視窗)\">電機工程系(學士班、碩士班)</a></li>\n",
            "\t\t\t\t<li><a href=\"http://eed.must.edu.tw/\" title=\"電子工程系(學士班、碩士班)(另開視窗)\">電子工程系(學士班、碩士班)</a></li>\n",
            "\t\t\t\t<li><a href=\"http://webc2.must.edu.tw/jtmust020/\" title=\"應用材料科技系(原化學工程與材料科技系)(學士班、碩士班)(另開視窗)\">應用材料科技系(原化學工程與材料科技系)(學士班、碩士班)</a></li>\n",
            "\t\t\t\t<li><a href=\"http://webc2.must.edu.tw/jtmust012\" title=\"半導體與光電科技系(學士班、碩士班)(另開視窗)\">半導體與光電科技系(原光電工程系)(學士班、碩士班)</a></li>\n",
            "\t\t\t\t<!--<li><a href=\"https://imaster.moe.gov.tw/home\" title=\"產業碩士專班\">產業碩士專班</a></li>-->\t\t\t\t\n",
            "\t\t\t\t</ul>\n",
            "            </li>\n",
            "\t\t  \n",
            "            <li class=\"col-4\">\n",
            "              <div class=\"title\"><a href=\"http://smart.must.edu.tw\" title=\"工程學院(另開視窗)\">工程學院</a></div>\n",
            "              <ul>\n",
            "                <li><a href=\"http://meu.must.edu.tw/\" title=\"機械工程系(學士班、精密機電工程碩士班)(另開視窗)\">機械工程系(學士班、精密機電工程碩士班)</a></li>\n",
            "                <li><a href=\"http://civil.must.edu.tw\" title=\"土木工程與環境資源管理系(學士班、碩士班)(另開視窗)\">土木工程與環境資源管理系(學士班、碩士班)</a></li>\n",
            "                <li><a href=\"http://csie.must.edu.tw\" title=\"資訊工程系(學士班)(另開視窗)\">資訊工程系(學士班)</a></li>               \n",
            "              </ul>\n",
            "            </li>\n",
            "            <li class=\"col-4\">\n",
            "              <div class=\"title\"><a href=\"http://webc2.must.edu.tw/jtmust015\" title=\"管理學院(另開視窗)\">管理學院</a></div>\n",
            "              <ul>\n",
            "                <li><a href=\"http://webc2.must.edu.tw/jtmust028\" title=\"工業工程與管理系(學士班、碩士班)(另開視窗)\">工業工程與管理系(學士班、碩士班)</a></li>\n",
            "                <li><a href=\"http://www.im.must.edu.tw/\" title=\"資訊管理系(學士班、碩士班)(另開視窗)\">資訊管理系(學士班、碩士班)</a></li>\n",
            "                <li><a href=\"https://acade.must.edu.tw/index.aspx?UnitID=48\" title=\"行銷與流通管理系(學士班)(另開視窗)\">行銷與流通管理系(學士班)</a></li>\n",
            "                <li><a href=\"http://webc2.must.edu.tw/jtmust006\" title=\"企業管理系(學士班(另開視窗))\">企業管理系(學士班)</a></li>\n",
            "                <li><a href=\"http://webc2.must.edu.tw/jtmust021\" title=\"財務金融系(學士班)(另開視窗)\">財務金融系(學士班)</a></li>\n",
            "                <li><a href=\"http://webc2.must.edu.tw/jtmust022\" title=\"管理研究所(碩士班)(另開視窗)\">管理研究所(碩士班)</a></li>\n",
            "                <!--<li><a href=\"http://webc2.must.edu.tw/jtmust013/\" title=\"全球運籌管理中心\">全球運籌管理中心</a></li>-->\n",
            "              </ul>\n",
            "            </li>\n",
            "            <li class=\"col-4\">\n",
            "              <div class=\"title\"><a href=\"https://acade.must.edu.tw/index.aspx?UnitID=52\" title=\"服務產業學院(另開視窗)\">服務產業學院</a></div>\n",
            "              <ul>\n",
            "                <li><a href=\"http://webc1.must.edu.tw/jtmust044\" title=\"服務產業暨管理研究所(碩士班)(另開視窗)\">服務產業暨管理研究所(碩士班)</a></li>\n",
            "                <li><a href=\"http://webc2.must.edu.tw/jtmust019\" title=\"旅館管理與廚藝創意系(學士班)(另開視窗)\">旅館管理與廚藝創意系(學士班)</a></li>\n",
            "                <li><a href=\"http://child.must.edu.tw/\" title=\"幼兒保育系(學士班、碩士班)(另開視窗)\">幼兒保育系(學士班、碩士班)</a></li>\n",
            "                <li><a href=\"http://webc2.must.edu.tw/jtmust101\" title=\"休閒事業管理系(學士班)(另開視窗)\">休閒事業管理系(學士班)</a></li>\n",
            "                <li><a href=\"http://webc2.must.edu.tw/jtmust010/\" title=\"樂齡服務產業管理系(學士班)(另開視窗)\">樂齡服務產業管理系(學士班)</a></li>\n",
            "                <li><a href=\"http://webc2.must.edu.tw/jtmust011\" title=\"師資培育中心(另開視窗)\">師資培育中心</a></li>\n",
            "              </ul>\n",
            "            </li>\n",
            "            <li class=\"col-4\">\n",
            "              <div class=\"title\"><a href=\"http://webc2.must.edu.tw/jtmust003\" title=\"人文與設計學院(另開視窗)\">人文與設計學院</a></div>\n",
            "              <ul>\n",
            "                <li><a href=\"http://webc1.must.edu.tw/jtmust067/\" title=\"應用外語系(學士班)(另開視窗)\">應用外語系(學士班)</a></li>\n",
            "                <li><a href=\"http://webc1.must.edu.tw/mustj004\" title=\"運動管理系(學士班)(另開視窗)\">運動管理系(學士班)</a></li>\n",
            "                <li><a href=\"http://webc2.must.edu.tw/jtmust102/\" title=\"多媒體與遊戲發展系(學士班)(另開視窗)\">多媒體與遊戲發展系(學士班)</a></li>\n",
            "                <li><a href=\"http://webc1.must.edu.tw/jtmust080\" title=\"時尚造型與設計系(學士班)(另開視窗)\">時尚造型與設計系(學士班)</a></li>\n",
            "                <li><a href=\"http://webc1.must.edu.tw/jtmust048/\" title=\"化妝品應用學士學位學程(另開視窗)\">化妝品應用學士學位學程</a></li>                \n",
            "\t\t\t\t<!--<li><a href=\"http://webc1.must.edu.tw/jtmust041\" title=\"華語文教學中心\">華語文教學中心</a></li>-->\n",
            "                \n",
            "              </ul>\n",
            "            </li>\n",
            "            <li class=\"col-4\">\n",
            "\t\t\t  <div class=\"title\"><a href=\"http://webc1.must.edu.tw/mustj010\" title=\"共同教育學院(另開視窗)\">共同教育學院</a></div>\n",
            "              <!--<div class=\"title\"><a href=\"http://webc2.must.edu.tw/jtmust014\" title=\"通識教育中心\">通識教育中心</a></div>-->\n",
            "              <ul>\n",
            "                <li><a href=\"http://webc2.must.edu.tw/jtmust014\" title=\"通識教育中心(另開視窗)\">通識教育中心</a></li>\n",
            "\t\t\t\t<!--<li><a href=\"http://webc1.must.edu.tw/jtmust081\" title=\"人文藝術教學中心\">人文藝術教學中心</a></li>\n",
            "                <li><a href=\"http://webc1.must.edu.tw/jtmust082\" title=\"社會科學教學中心\">社會科學教學中心</a></li>\n",
            "                <li><a href=\"http://webc1.must.edu.tw/jtmust083\" title=\"自然科學教學中心\">自然科學教學中心</a></li>\n",
            "                <li><a href=\"http://webc1.must.edu.tw/jtmust084\" title=\"語言教學中心\">語言教學中心</a></li>-->\n",
            "              </ul>\n",
            "            </li>\n",
            "          </ul>\n",
            "        </li>\n",
            "        <li class=\"big-menu\"><a href=\"https://www.must.edu.tw/admin.php\" title=\"行政單位\">行政單位</a>\n",
            "          <ul class=\"row\">\n",
            "            <li class=\"col-2\">\n",
            "              <ul>\n",
            "                <li><a href=\"https://admin.must.edu.tw/index.aspx?UnitID=70\" title=\"稽核處(另開視窗)\">稽核處</a></li>\n",
            "                <li><a href=\"https://admin.must.edu.tw/index.aspx?UnitID=71\" title=\"秘書處(另開視窗)\">秘書處</a></li>\n",
            "                <li><a href=\"https://admin.must.edu.tw/index.aspx?UnitID=72\" title=\"公共關係處(另開視窗)\">公共關係處</a></li>                \n",
            "                <li><a href=\"http://webc1.must.edu.tw/jtmust059\" title=\"財務處(另開視窗)\">財務處</a></li>\n",
            "                <li><a href=\"http://webc1.must.edu.tw/mustj007\" title=\"人力資源處(另開視窗)\">人力資源處</a></li>\n",
            "                <li><a href=\"http://webc1.must.edu.tw/mustj005/\" title=\"法務處(另開視窗)\">法務處</a></li>\n",
            "\t\t\t\t<li><a href=\"#\" title=\"原住民族教育發展處\">原住民族教育發展處</a></li>\n",
            "\t\t\t\t<li><a href=\"http://webs.must.edu.tw/ocmust012\" title=\"原住民族學生資源中心(另開視窗)\">- 原住民族學生資源中心</a></li>\n",
            "\t\t\t\t<li><a href=\"http://webs.must.edu.tw/ocmust120/\" title=\"大學社會責任辦公室(另開視窗)\">大學社會責任辦公室</a></li>\n",
            "\t\t\t\t<!--<li><a href=\"http://webc2.must.edu.tw/jtmust038\" title=\"進修學院暨專科進修學校\">進修學院暨專科進修學校</a></li>-->\n",
            "                <!--<li><a href=\"http://webc1.must.edu.tw/jtmust068\" title=\"軍訓室\">軍訓室</a></li>-->\n",
            "                <!--<li><a href=\"http://webc1.must.edu.tw/jtmust060\" title=\"校友服務中心\">- 校友服務中心</a></li>-->\n",
            "                </li>\n",
            "                \n",
            "              </ul>\n",
            "            </li>\n",
            "            <div class=\"col-10\">\n",
            "              <div class=\"row\">\n",
            "               \n",
            "                <li class=\"col-4\" style=\"padding-bottom: 150px;\">\n",
            "                  <div class=\"title\"><a href=\"https://admin.must.edu.tw/index.aspx?UnitID=81\" title=\"教務處(另開視窗)\">教務處</a></div>\n",
            "                  <ul>\n",
            "                    <!--<li><a href=\"http://webc1.must.edu.tw/jtmust057\" title=\"教務處\">綜合業務組</a></li>-->\n",
            "                    <li><a href=\"http://webc2.must.edu.tw/jtmust029\" title=\"課務組(另開視窗)\">課務組</a></li>\n",
            "                    <li><a href=\"https://admin.must.edu.tw/index.aspx?UnitID=83\" title=\"註冊組(另開視窗)\">註冊組</a></li>\n",
            "                    <li><a href=\"https://admin.must.edu.tw/index.aspx?UnitID=84\" title=\"教學發展中心(另開視窗)\">教學發展中心</a></li>\n",
            "\t\t\t\t\t<li><a href=\"https://admin.must.edu.tw/index.aspx?UnitID=85\" title=\"學生實習服務中心(另開視窗)\">學生實習服務中心</a></li>\n",
            "                    <!--<li><a href=\"http://webc2.must.edu.tw/jtmust103/\" title=\"招生中心\">招生中心</a></li>-->\n",
            "\t\t\t\t\t<li><a href=\"https://admin.must.edu.tw/index.aspx?UnitID=107\" title=\"進修教務組(另開視窗)\">進修教務組</a></li>\n",
            "\t\t\t\t\t<li><a href=\"https://admin.must.edu.tw/view/content.aspx?UnitID=81&id=5559&tp=menu\" title=\"ROTC專案辦公室(另開視窗)\">ROTC專案辦公室</a></li>\n",
            "                  </ul>\n",
            "                </li>\n",
            "               \n",
            "\t\t\t\t\n",
            "\t\t\t\t <li class=\"col-4\">\n",
            "                  <div class=\"title\"><a href=\"http://webc2.must.edu.tw/jtmust040/\" title=\"進修推廣處(另開視窗)\">進修推廣處</a></div>\n",
            "                  <ul>\n",
            "                     <li><a href=\"https://eec.must.edu.tw/\" title=\"推廣教育中心\">推廣教育中心</a></li>\n",
            "\t\t\t\t\t <li><a href=\"https://admin.must.edu.tw/index.aspx?UnitID=1218\" title=\"國軍人才培育中心\">國軍人才培育中心</a></li>\n",
            "\t\t\t\t\t<!--<li><a href=\"http://webc2.must.edu.tw/jtmust039\" title=\"進修推廣處課務註冊組(另開視窗)\">進修推廣處課務註冊組</a></li>\n",
            "                    <li><a href=\"http://webc2.must.edu.tw/jtmust036\" title=\"進修推廣處綜合事務組(另開視窗)\">進修推廣處綜合事務組</a></li>\n",
            "\t\t\t\t\t<li><a href=\"https://eec.must.edu.tw/\" title=\"推廣教育中心\">推廣教育中心</a></li>\n",
            "\t\t\t\t\t<li><a href=\"http://webc2.must.edu.tw/jtmust036\" title=\"進修推廣部學生事務組\">進修推廣部學生事務組</a></li>\n",
            "                    <li><a href=\"http://webc2.must.edu.tw/jtmust023\" title=\"進修推廣部總務組\">進修推廣部總務組</a></li>-->\n",
            "                    \n",
            "                  </ul>\n",
            "                </li>\n",
            "\t\t\t\t\n",
            "\t\t\t\t<li class=\"col-4\" style=\"padding-bottom: 150px;\">\n",
            "                  <div class=\"title\"><a href=\"http://admission.must.edu.tw/\" title=\"入學服務處(另開視窗)\">入學服務處</a></div>\n",
            "                  <ul>\n",
            "                    <li><a href=\"https://admission.must.edu.tw/view/list.aspx?id=9\" title=\"選才辦公室\">選才辦公室</a></li>\n",
            "                    <li><a href=\"https://admission.must.edu.tw/view/list.aspx?id=9\" title=\"教育行銷組\">教育行銷組</a></li>\n",
            "\t\t\t\t\t<li><a href=\"https://admission.must.edu.tw/view/list.aspx?id=9\" title=\"行政事務組\">行政事務組</a></li>\n",
            "                   \n",
            "                  </ul>\n",
            "                </li>\n",
            "\t\t\t\t\n",
            "\t\t\t\t\n",
            "\t\t\t\t <li class=\"col-4\" style=\"padding-bottom: 200px;\">\n",
            "                  <div class=\"title\"><a href=\"https://admin.must.edu.tw/index.aspx?UnitID=86\" title=\"學生事務處(另開視窗)\">學生事務處</a></div>\n",
            "                  <ul>\n",
            "                    <li><a href=\"https://admin.must.edu.tw/index.aspx?UnitID=87\" title=\"生活輔導組\">生活輔導組</a></li>\n",
            "\t\t\t\t\t<li><a href=\"https://admin.must.edu.tw/index.aspx?UnitID=88\" title=\"課外活動指導組\">課外活動指導組</a></li>\n",
            "\t\t\t\t\t<li><a href=\"https://admin.must.edu.tw/index.aspx?UnitID=89\" title=\"衛生保健組\">衛生保健組</a></li>\n",
            "                    <li><a href=\"https://admin.must.edu.tw/index.aspx?UnitID=90\" title=\"體育室(另開視窗)\">體育室</a></li>\n",
            "                    <li><a href=\"https://admin.must.edu.tw/index.aspx?UnitID=91\" title=\"諮商輔導暨職涯發展中心(另開視窗)\">諮商輔導暨職涯發展中心</a></li>\n",
            "                    <li><a href=\"https://admin.must.edu.tw/index.aspx?UnitID=92\" title=\"諮商輔導暨職涯發展中心[資源教室](另開視窗)\">諮商輔導暨職涯發展中心[資源教室]</a></li>\n",
            "\t\t\t\t\t<li><a href=\"https://admin.must.edu.tw/index.aspx?UnitID=93\" title=\"校安中心(另開視窗)\">校安中心</a>\n",
            "                    <!--<li><a href=\"http://webs.must.edu.tw/ocmust012\" title=\"原住民族學生資源中心\">原住民族學生資源中心</a></li>\n",
            "\t\t\t\t\t<li><a href=\"http://webc1.must.edu.tw/jtmust070\" title=\"住宿服務組\">住宿服務組</a></li>\n",
            "                    <li><a href=\"http://webc1.must.edu.tw/jtmust042\" title=\"服務學習中心\">服務學習中心</a></li>-->\n",
            "\t\t\t\t\t<li><a href=\"https://admin.must.edu.tw/index.aspx?UnitID=108\" title=\"進修學務組(另開視窗)\">進修學務組</a></li>\n",
            "                  </ul>\n",
            "                </li>\n",
            "\t\t\t\t\n",
            "\t\t\t\t\n",
            "                <li class=\"col-4\" style=\"padding-bottom: 200px;\">\n",
            "                   <div class=\"title\"><a href=\"https://admin.must.edu.tw/index.aspx?UnitID=94\" title=\"總務處(另開視窗)\">總務處</a></div>\n",
            "                  <ul>\n",
            "\t\t\t\t\t\t\t<li><a href=\"https://admin.must.edu.tw/index.aspx?UnitID=95\" title=\"文書組\">文書組</a></li>\n",
            "\t\t\t\t\t\t\t<li><a href=\"https://admin.must.edu.tw/index.aspx?UnitID=96\" title=\"事務組\">事務組</a></li>\n",
            "\t\t\t\t\t\t\t<li><a href=\"https://admin.must.edu.tw/index.aspx?UnitID=97\" title=\"出納組\">出納組</a></li>\n",
            "\t\t\t\t\t\t\t<li><a href=\"https://admin.must.edu.tw/index.aspx?UnitID=98\" title=\"營繕組\">營繕組</a></li>\n",
            "\t\t\t\t\t\t\t<li><a href=\"https://admin.must.edu.tw/index.aspx?UnitID=99\" title=\"採購組\">採購組</a></li>\n",
            "\t\t\t\t\t\t\t<li><a href=\"https://admin.must.edu.tw/index.aspx?UnitID=100\" title=\"保管組\">保管組</a></li>\n",
            "\t\t\t\t\t\t\t<li><a href=\"https://admin.must.edu.tw/index.aspx?UnitID=101\" title=\"環境安全衛生中心\">環境安全衛生中心</a></li>\n",
            "                   \t\t\t\n",
            "                  </ul>\n",
            "                </li>\n",
            "\t\t\t\t\t\t\t\t\n",
            "\t\t\t\t <li class=\"col-4\" style=\"padding-bottom: 200px;\">\n",
            "                  <div class=\"title\"><a href=\"https://admin.must.edu.tw/index.aspx?UnitID=115\" title=\"研究發展處(另開視窗)\">研究發展處</a></div>\n",
            "\t\t\t\t  <!--<li><a href=\"http://webc1.must.edu.tw/jtmust077\" title=\"校務研究辦公室\">校務研究辦公室</a></li>-->\n",
            "                  <ul>\n",
            "                    <li><a href=\"https://admin.must.edu.tw/index.aspx?UnitID=116\" title=\"校務研究中心\">校務研究中心</a></li>\n",
            "                    <li><a href=\"https://admin.must.edu.tw/index.aspx?UnitID=117\" title=\"校務企劃中心\">校務企劃中心</a></li>\n",
            "                    <li><a href=\"https://admin.must.edu.tw/index.aspx?UnitID=118\" title=\"研究與技術中心(另開視窗)\">研究技術中心</a></li>\n",
            "\t\t\t\t\t\n",
            "                    </li>\n",
            "                  </ul>\n",
            "                </li>\n",
            "\t\t\t\t\n",
            "\t\t\t\t\n",
            "\t\t\t\t\t\t\t\t\n",
            "\t\t\t\t <li class=\"col-4\" style=\"padding-bottom: 150px;\">\n",
            "                  <div class=\"title\"><a href=\"https://admin.must.edu.tw/index.aspx?UnitID=110\" title=\"國際暨兩岸事務處(另開視窗)\">國際暨兩岸事務處</a></div>\n",
            "                  <ul>\n",
            "                    <li><a href=\"https://admin.must.edu.tw/index.aspx?UnitID=111\" title=\"國際暨兩岸教育中心(另開視窗)\">國際暨兩岸教育中心</a></li>\n",
            "                    <!--<li><a href=\"http://webc2.must.edu.tw/jtmust032\" title=\"兩岸教育與交流中心\">教育與交流中心</a></li>-->\n",
            "                    <li><a href=\"http://webc2.must.edu.tw/jtmust031\" title=\"境外生輔導與服務中心(另開視窗)\">境外生輔導與服務中心</a></li>\n",
            "\t\t\t\t\t<li><a href=\"https://admin.must.edu.tw/index.aspx?UnitID=113\" title=\"華語文教學中心(另開視窗)\">華語文教學中心</a></li>\n",
            "                    <li><a href=\"https://admin.must.edu.tw/index.aspx?UnitID=114\" title=\"新住民教育發展中心(另開視窗)\">新住民教育發展中心</a></li>\n",
            "                  </ul>\n",
            "                </li>\n",
            "\t\t\t\t\t\t\t\n",
            "                <li class=\"col-4\" style=\"padding-bottom: 200px;\">\n",
            "                  <div class=\"title\"><a href=\"https://admin.must.edu.tw/index.aspx?UnitID=119\" title=\"產學營運處(另開視窗)\">產學營運處</a></div>\n",
            "                  <ul>\n",
            "                    <li><a href=\"http://webs.must.edu.tw/ocmust018/\" target=\"_blank\" title='防災中心-將另開新視窗(另開視窗)'>防災技術研究中心</a> </li>\n",
            "                    <li><a href=\"https://admin.must.edu.tw/index.aspx?UnitID=122\" title=\"產學及技術移轉中心(另開視窗)\">產學及技術移轉中心</a></li>\n",
            "                    <li><a href=\"http://webc1.must.edu.tw/jtmust047\" title=\"創新育成中心(另開視窗)\">創新育成中心</a></li>\n",
            "\t\t\t\t\t<li><a href=\"https://admin.must.edu.tw/index.aspx?UnitID=124\" title=\"校友服務中心(另開視窗)\">校友服務中心</a></li>\n",
            "                  </ul>\n",
            "                </li>\n",
            "               \n",
            "\t\t\t   <li class=\"col-4\" style=\"padding-bottom: 200px;\">\n",
            "                  <div class=\"title\"><a href=\"https://admin.must.edu.tw/index.aspx?UnitID=74\" title=\"圖資處(另開視窗)\">圖書資訊處</a></div>\n",
            "                  <ul>\n",
            "                    <li><a href=\"https://admin.must.edu.tw/index.aspx?UnitID=74\" target=\"_blank\" title='系統維運組-將另開新視窗(另開視窗)'>系統維運組</a> </li>\n",
            "                    <li><a href=\"https://admin.must.edu.tw/index.aspx?UnitID=74\" title=\"技術服務組(另開視窗)\">技術服務組</a></li>\n",
            "                    <li><a href=\"https://admin.must.edu.tw/index.aspx?UnitID=74\" title=\"圖書資源服務組(另開視窗)\">圖書資源服務組</a></li>\n",
            "\t\t\t\t\t<li><a href=\"http://webc2.must.edu.tw/jtmust008\" title=\"藝文中心(另開視窗)\">藝文中心</a></li>\n",
            "                  </ul>\n",
            "                </li>\n",
            "\t\t\t   \n",
            "              </div>\n",
            "            </div>\n",
            "          </ul>\n",
            "        </li>\n",
            "       \n",
            "\t    <li><a href=\"https://sites.google.com/site/mustfreshman\" title=\"新生專區(另開視窗)\">新生專區</a></li>\n",
            "\t\t<li><a href=\"https://www.must.edu.tw/hall-of-fame-img-list.php\" title=\"明新的驕傲\">明新的驕傲</a></li>\n",
            "\t\t\n",
            "\t\t\n",
            "\t   \n",
            "\t\t<li><a href=\"https://www.must.edu.tw/servies.php\" title=\"\">線上服務</a>\n",
            "        </li>\n",
            "\n",
            "\n",
            "\t\t<!--\n",
            "        <li><a href=\"https://www.must.edu.tw/servies.php\" title=\"\">線上服務</a>\n",
            "          <ul>\n",
            "            <li><a href=\"https://www.must.edu.tw/faq.php\" title=\"常見問答(另開視窗)\">常見問答</a></li>\n",
            "            <li><a href=\"https://sss.must.edu.tw/std_service.html\" title=\"學生專區(另開視窗)\">學生專區</a></li>\n",
            "            <li><a href=\"https://sss.must.edu.tw/teach_service.html\" title=\"教職員專區(另開視窗)\">教職員專區</a></li>\n",
            "            <li><a href=\"https://www.must.edu.tw/download.php\" title=\"檔案下載(另開視窗)\">檔案下載</a></li>\n",
            "            <li><a href=\"https://www.must.edu.tw/qa.php\" title=\"網站問題反映(另開視窗)\">網站問題反映</a></li>\n",
            "            <li><a href=\"mailto://president@must.edu.tw;secretariat.must@must.edu.tw;chen083487@must.edu.tw\"\n",
            "                title=\"校長信箱(另開視窗)\">校長信箱</a></li>\n",
            "            <li><a href=\"https://www.must.edu.tw/calendar.php\" title=\"校園行事曆\">校園行事曆</a></li>\n",
            "          </ul>\n",
            "        </li>-->\n",
            "\t\t\n",
            "        <!-- <li><a href=\"http://webs.must.edu.tw/jtmust060\" title=\"弱勢助學勸募(另開視窗)\">弱勢助學勸募</a></li>-->\n",
            "      </ul>\n",
            "    </div>\n",
            "  </div>\n",
            "</header>\n",
            "\n",
            "\n",
            "<!-- AddToAny BEGIN -->\n",
            "<div class=\"a2a_kit a2a_kit_size_32 a2a_floating_style a2a_vertical_style\" style=\"right:0px; top:30%;z-index: 100;\">\n",
            "\t\n",
            "  <div style=\"font-size:0.8rem; text-align: center;\">分享</div>\n",
            "  <a class=\"a2a_button_facebook\" title=\"另開新視窗\">Fb\n",
            "  <a class=\"a2a_button_twitter\"  title=\"另開新視窗\" >Twitter</a>\n",
            "  <a class=\"a2a_button_line\" title=\"另開新視窗\">Line</a>\n",
            "  \n",
            "</div>\n",
            "<script async src=\"https://static.addtoany.com/menu/page.js\"></script>\n",
            "\n",
            "<NOSCRIPT>\n",
            "  <P>您的瀏覽器不支援JavaScript功能，若網頁功能無法正常使用時，請開啟瀏覽器JavaScript狀態</P>\n",
            "  </NOSCRIPT>\n",
            "<!-- AddToAny END -->  <main id=\"maincontent\">\n",
            "    <div class=\"block-top\">\n",
            "      <div class=\"container\">\n",
            "     \n",
            "        <div class=\"slider\">\n",
            "<!-- start htmlType1 -->\n",
            "\t              <div><a href=\"https://admission.must.edu.tw/\" target=\"_blank\" title=\"Open new window\"><img src=\"https://mustwebsystem.must.edu.tw/ashx/chchou/showMustWwwImage.ashx?filegid=90986\" alt=\"20220105 校首頁 1111人力銀行2022企業最愛大學調查全國第三\"></a></div>\n",
            "    \t\t    \n",
            "\t              <div><a href=\"https://admission.must.edu.tw/admission/index.aspx?id=11\" target=\"_blank\" title=\"Open new window\"><img src=\"https://mustwebsystem.must.edu.tw/ashx/chchou/showMustWwwImage.ashx?filegid=110996\" alt=\"01_111運動獨招_報名.繳件0214-0326\"></a></div>\n",
            "    \t\t    \n",
            "\t              <div><a href=\"https://www.must.edu.tw/admissions.php\" target=\"_blank\" title=\"Open new window\"><img src=\"https://mustwebsystem.must.edu.tw/ashx/chchou/showMustWwwImage.ashx?filegid=100984\" alt=\"20220825 入服處 新住民獨招\"></a></div>\n",
            "    \t\t    \n",
            "\t              <div><a href=\"https://blog.104.com.tw/wp-content/uploads/2021/08/6_2021-semicon-whitepaper-final.pdf\" target=\"_blank\" title=\"Open new window\"><img src=\"https://mustwebsystem.must.edu.tw/ashx/chchou/showMustWwwImage.ashx?filegid=80822\" alt=\"20210809 校首頁 104人力銀行發佈2021年《半導體人才白皮書》明新科大前五強\"></a></div>\n",
            "    \t\t    \n",
            "\t              <div><a href=\"http://webc2.must.edu.tw/jtmust008/\" target=\"_blank\" title=\"Open new window\"><img src=\"https://mustwebsystem.must.edu.tw/ashx/chchou/showMustWwwImage.ashx?filegid=111008\" alt=\"20220414 藝文中心 「墨彩飛揚」水墨水彩作品展\"></a></div>\n",
            "    \t\t    \n",
            "\t              <div><a href=\"https://admission.must.edu.tw/admission/content.aspx?id=20&tab=M\" target=\"_blank\" title=\"Open new window\"><img src=\"https://mustwebsystem.must.edu.tw/ashx/chchou/showMustWwwImage.ashx?filegid=111012\" alt=\"20210930 入服處 ROTC招生2.jpg\"></a></div>\n",
            "    \t\t    \n",
            "\t              <div><a href=\"http://webc1.must.edu.tw/jtmust056/\" target=\"_blank\" title=\"Open new window\"><img src=\"https://mustwebsystem.must.edu.tw/ashx/chchou/showMustWwwImage.ashx?filegid=111003\" alt=\"20210220 校首頁 教育部110學年度正式修讀學位外國生人數明新第一\"></a></div>\n",
            "    \t\t    \n",
            "\t              <div><a href=\"https://www.facebook.com/Atayalarchitecture\" target=\"_blank\" title=\"Open new window\"><img src=\"https://mustwebsystem.must.edu.tw/ashx/chchou/showMustWwwImage.ashx?filegid=111010\" alt=\"20220331 校首頁 原民處 賀獲110年度泰雅族傳統竹構建築修復人才培育計畫\"></a></div>\n",
            "    \t\t    \n",
            "\t              <div><a href=\"https://sites.google.com/must.edu.tw/mustbe/%E9%A6%96%E9%A0%81\" target=\"_blank\" title=\"Open new window\"><img src=\"https://mustwebsystem.must.edu.tw/ashx/chchou/showMustWwwImage.ashx?filegid=80908\" alt=\"20211027 校首頁 賀本校榮獲教育部大專校院學生雙語化學習-普及提升學校計畫 補助350萬\"></a></div>\n",
            "    \t\t    \n",
            "\t              <div><a href=\"http://webc1.must.edu.tw/jtmust090/\" target=\"_blank\" title=\"Open new window\"><img src=\"https://mustwebsystem.must.edu.tw/ashx/chchou/showMustWwwImage.ashx?filegid=80930\" alt=\"20211220 校首頁 2021年TDK競賽，電子系榮獲遙控組第2名，電機系榮獲科技人文獎及自動組\"></a></div>\n",
            "    \t\t    <!-- end htmlType1 -->\n",
            "\n",
            "        </div>\n",
            "\t\t <!--校長公告-->\n",
            "        <!--<div class=\"antiepidemic-zone\" style=\"padding-top:10px;padding-right:10px;\">\n",
            "\t\t\t<a href=\"http://webc2.must.edu.tw/jtmust037/index.php/2021-02-02-07-46-30/113-2017-02-22-04-55-49/1361-covid\" target=\"_blank\" title=\"Open new window\"><img src=\"images/COVID-2022-0117.jpg\" style=\"width:100%\" alt=\"明新科大公告區\"></a>\n",
            "        </div>-->\n",
            "\t\t\n",
            "        <div id=\"content\">\n",
            "        <a style=\"margin-bottom:20px; display: inline-block;\" href=\"#accesskeyC\" title=\"中央內容區塊\" accesskey=\"C\" name=\"accesskeyC\" id=\"main-content\">:::</a>\n",
            "        <!--快速連結-->\n",
            "        <div class=\"quick-links\">\n",
            "          <div class=\"item col-6 col-sm-4 col-xl-2\"><a href=\"admissions.php\" title=\"未來學生(另開視窗)\"><img src=\"images/quick-link01.svg\"\n",
            "                alt=\"未來學生\"></a>\n",
            "          </div>\n",
            "          <div class=\"item col-6 col-sm-4 col-xl-2\"><a href=\"https://sss.must.edu.tw/pars_new/pars_index.asp\" title=\"學生家長(另開視窗)\" target=\"_blank\"><img src=\"images/quick-link02.svg\"\n",
            "                alt=\"學生家長\"></a>\n",
            "          </div>\n",
            "          <div class=\"item col-6 col-sm-4 col-xl-2\"><a href=\"https://sss.must.edu.tw/std_service.html\" title=\"在校學生(另開視窗)\" target=\"_blank\"><img src=\"images/quick-link03.svg\"\n",
            "                alt=\"在校學生\"></a>\n",
            "          </div>\n",
            "          <div class=\"item col-6 col-sm-4 col-xl-2\"><a href=\"https://eec.must.edu.tw/\" title=\"進修人士長(另開視窗)\" target=\"_blank\"><img src=\"images/quick-link04.svg\"\n",
            "                alt=\"進修人士\"></a>\n",
            "          </div>\n",
            "          <div class=\"item col-6 col-sm-4 col-xl-2\"><a href=\"https://sss.must.edu.tw/teach_service.html\" title=\"教職員工(另開視窗)\" target=\"_blank\"><img src=\"images/quick-link05.svg\"\n",
            "                alt=\"教職員工\"></a>\n",
            "          </div>\n",
            "          <div class=\"item col-6 col-sm-4 col-xl-2\"><a href=\"http://webc1.must.edu.tw/jtmust060/\" title=\"畢業校友(另開視窗)\" target=\"_blank\"><img src=\"images/quick-link06.svg\"\n",
            "                alt=\"畢業校友\"></a>\n",
            "          </div>\n",
            "        </div>\n",
            "        <!--防疫專區-->\n",
            "        <div class=\"antiepidemic-zone\">\n",
            "          <a href=\"https://www.must.edu.tw//about/news.php\" title=\"\"><img src=\"images/antiepidemic-zone.jpg\" alt=\"明新科大防疫專區\"></a>\n",
            "        </div>\n",
            "        <!--學校特色-->\n",
            "        <div class=\"school-features\">\n",
            "          <h1>學校特色</h1>\n",
            "          <div class=\"row\">\n",
            "            <div class=\"item col-6 col-md-3\">\n",
            "\t\t\t<a href=\"https://www.facebook.com/581795358614934/posts/4553115644816199/?sfnsn=mo\" title=\"\">\n",
            "              <img src=\"images/school-features05.png\" alt=\"\">\n",
            "              <div class=\"title\">人才永續</div>\n",
            "              <div class=\"intro\">本校宣布加入「TALENT, in Taiwan，台灣人才永續行動聯盟」</div>\n",
            "\t\t\t  </a>\n",
            "            </div>\n",
            "            <div class=\"item col-6 col-md-3\">\n",
            "              <img src=\"images/school-features02.svg\" alt=\"\">\n",
            "              <div class=\"title\" style=\"display:flex; justify-content: center;\">\n",
            "                <div class=\"counter\">1,300</div>\n",
            "                <div style=\"padding-left:5px;\">+</div>\n",
            "              </div>\n",
            "              <div class=\"intro\">全國技專校院外國學位生人數第一名</div>\n",
            "            </div>\n",
            "            <div class=\"item col-6 col-md-3\">\n",
            "              <img src=\"images/school-features03.svg\" alt=\"\">\n",
            "              <div class=\"title\" style=\"display:flex; justify-content: center;\">\n",
            "                <div class=\"counter\">100</div>\n",
            "                <div style=\"padding-left:5px;\">+</div>\n",
            "              </div>\n",
            "              <div class=\"intro\">科技部大專生研究計畫通過數量全國私立科大第二名</div>\n",
            "            </div>\n",
            "            <div class=\"item col-6 col-md-3\">\n",
            "              <img src=\"images/school-features04.svg\" alt=\"\">\n",
            "              <div class=\"title\">半導體產業</div>\n",
            "              <div class=\"intro\">本校畢業生超越頂尖大學成為「半導體產業」首選</div>\n",
            "            </div>\n",
            "          </div>\n",
            "        </div>\n",
            "      </div>\n",
            "    </div>\n",
            "    <!--焦點新聞-->\n",
            "    <div class=\"block-news\">\n",
            "      <div class=\"container\">\n",
            "        <div class=\"news-tab\">\n",
            "          <ul class=\"nav nav-pill\" id=\"news-pills-tab\" role=\"tablist\">\n",
            "            <li class=\"nav-item\">\n",
            "              <a class=\"nav-link active\" id=\"news-tab\" data-toggle=\"pill\" href=\"#pills-news\" role=\"tab\"\n",
            "                aria-controls=\"pills-news\" aria-selected=\"true\" title=\"最新消息\">最新消息</a>\n",
            "            </li>\n",
            "            <li class=\"nav-item\">\n",
            "              <a class=\"nav-link\" id=\"pills-ad-tab\" data-toggle=\"pill\" href=\"#pills-ad\" role=\"tab\"\n",
            "                aria-controls=\"pills-ad\" aria-selected=\"false\" title=\"媒體報導\">媒體報導</a>\n",
            "            </li>\n",
            "          </ul>\n",
            "          <div class=\"tab-content\" id=\"pills-tabContent\">\n",
            "            <!--最新消息-->\n",
            "            <div class=\"tab-pane fade show active\" id=\"pills-news\" role=\"tabpanel\" aria-labelledby=\"pills-news-tab\">\n",
            "              <div class=\"panel panel-default\">\n",
            "                <div class=\"panel-heading\">\n",
            "                  <div class=\"panel-title\">\n",
            "                    <a data-toggle=\"collapse\" data-parent=\".tab-pane\" href=\"#collapse-news\" class=\"collapsed\"\n",
            "                      aria-expanded=\"false\" title=\"分頁畫面\">\n",
            "                      最新消息\n",
            "                    </a>\n",
            "                  </div>\n",
            "                </div>\n",
            "                <div id=\"collapse-news\" class=\"panel-collapse in collapse\">\n",
            "                  <div class=\"panel-body row\">\n",
            "                    <div class=\"col-12 col-lg-7 news-wrap\">\n",
            "                      <!-- start htmlType4 -->\n",
            "                    <div class=\"item\">\n",
            "                        <div class=\"date\">2022/02/21</div>\n",
            "                        <div class=\"title\"><a href=\"https://www.facebook.com/mustminghsin/posts/4584629671664796\" target=\"_blank\" title=\"Open new window\">【公告】2/21(一)開學日起，校門各出入口管制與校園防疫規範</a><span class=\"hot\">HOT</span><span class=\"new\">NEW</span></div>\n",
            "                      </div>\n",
            "                \n",
            "                      <div class=\"item\">\n",
            "                        <div class=\"date\">2022/02/21</div>\n",
            "                        <div class=\"title\"><a href=\"http://webc2.must.edu.tw/jtmust104/index.php/2020-09-22-02-03-04/176-110-2\" target=\"_blank\" title=\"Open new window\">【公告】110學年度第2學期新住民及新住民子女獎助學金開放申請</a></div>\n",
            "                      </div>\n",
            "                \n",
            "                      <div class=\"item\">\n",
            "                        <div class=\"date\">2022/02/15</div>\n",
            "                        <div class=\"title\"><a href=\"https://admission.must.edu.tw/admission/content.aspx?id=12&tab=D\" target=\"_blank\" title=\"Open new window\">【招生】111學年度【原住民專班】單獨招生 簡章免費下載~</a></div>\n",
            "                      </div>\n",
            "                \n",
            "                      <div class=\"item\">\n",
            "                        <div class=\"date\">2022/02/15</div>\n",
            "                        <div class=\"title\"><a href=\"https://admission.must.edu.tw/admission/content.aspx?id=42&tab=D\" target=\"_blank\" title=\"Open new window\">【招生】111學年度【原住民管理碩士在職專班】招生 簡章免費下載~</a></div>\n",
            "                      </div>\n",
            "                \n",
            "                      <div class=\"item\">\n",
            "                        <div class=\"date\">2022/02/14</div>\n",
            "                        <div class=\"title\"><a href=\"http://webc1.must.edu.tw/jtmust055/index.php/2017-02-07-02-40-10/2017-03-31-06-09-53/1142-111\" target=\"_blank\" title=\"Open new window\">【招生】111學年度【運動績優】單獨招生</a></div>\n",
            "                      </div>\n",
            "                \n",
            "                      <div class=\"item\">\n",
            "                        <div class=\"date\">2022/02/14</div>\n",
            "                        <div class=\"title\"><a href=\"https://admission.must.edu.tw/admission/content.aspx?id=13&tab=M\" target=\"_blank\" title=\"Open new window\">【招生】111學年度【科技校院繁星計畫】招生</a></div>\n",
            "                      </div>\n",
            "                \n",
            "                      <div class=\"item\">\n",
            "                        <div class=\"date\">2022/02/14</div>\n",
            "                        <div class=\"title\"><a href=\"https://admission.must.edu.tw/admission/content.aspx?id=10&tab=M\" target=\"_blank\" title=\"Open new window\">【招生】111學年度【高中申請入學】招生</a></div>\n",
            "                      </div>\n",
            "                \n",
            "                      <div class=\"item\">\n",
            "                        <div class=\"date\">2022/01/26</div>\n",
            "                        <div class=\"title\"><a href=\"http://webc1.must.edu.tw/jtmust060/index.php/102-2017-02-07-03-49-31/319-2021\" target=\"_blank\" title=\"Open new window\">【恭賀】古紹崙校友榮獲2021海外華人第30屆創業楷模獎</a></div>\n",
            "                      </div>\n",
            "                \n",
            "                      <div class=\"item\">\n",
            "                        <div class=\"date\">2022/01/04</div>\n",
            "                        <div class=\"title\"><a href=\"http://webc2.must.edu.tw/jtmust026/index.php/2017-04-28-08-37-21/405-110-2.html\" target=\"_blank\" title=\"Open new window\">【公告】【校園行事曆】110學年度第2學期各單位行事摘要</a></div>\n",
            "                      </div>\n",
            "                \n",
            "                      <div class=\"item\">\n",
            "                        <div class=\"date\">2021/09/22</div>\n",
            "                        <div class=\"title\"><a href=\"https://bit.ly/39vTKdm\" target=\"_blank\" title=\"Open new window\">【公告】本校學生因應防疫接種Covid疫苗後申請「疫苗接種假」相關事宜</a></div>\n",
            "                      </div>\n",
            "                <!-- end htmlType4 -->\n",
            "                      <!--<div class=\"more\"><a href=\"http://webc1.must.edu.tw/jtmust062/index.php/news\" title=\"閱讀更多\">閱讀更多</a></div>-->\n",
            "                    </div>\n",
            "                    <div class=\"col-12 col-lg-5 d-none d-lg-block\"><img src=\"images/events.png\" alt=\"\"></div>\n",
            "                  </div>\n",
            "                </div>\n",
            "              </div>\n",
            "            </div>\n",
            "            <!-- 媒體公告-->\n",
            "            <div class=\"tab-pane\" id=\"pills-ad\" role=\"tabpanel\" aria-labelledby=\"pills-ad-tab\">\n",
            "              <div class=\"panel panel-default\">\n",
            "                <div class=\"panel-heading\">\n",
            "                  <div class=\"panel-title\">\n",
            "                    <a data-toggle=\"collapse\" data-parent=\".tab-pane\" href=\"#collapse-ad\" class=\"collapsed\"\n",
            "                      aria-expanded=\"false\" title=\"媒體報導\">\n",
            "                      媒體報導\n",
            "                    </a>\n",
            "                  </div>\n",
            "                </div>\n",
            "                <div id=\"collapse-ad\" class=\"panel-collapse in collapse\">\n",
            "                  <div class=\"panel-body row\">\n",
            "                    <div class=\"col-12 col-lg-7 news-wrap\">\n",
            "                     <!-- start htmlType5 -->\n",
            "                    <div class=\"item\">\n",
            "                        <div class=\"date\">2021/10/29</div>\n",
            "                        <div class=\"title\"><a href=\"https://youtu.be/3L9VWG1B4Kg\" target=\"_blank\" title=\"Open new window\">【影音】【Cheers Talk】明新科大貼合產業需求鏈結國際化人才培訓</a><span class=\"hot\">HOT</span><span class=\"new\">NEW</span></div>\n",
            "                      </div>\n",
            "                \n",
            "                      <div class=\"item\">\n",
            "                        <div class=\"date\">2022/02/24</div>\n",
            "                        <div class=\"title\"><a href=\"https://www.gvm.com.tw/article/87095\" target=\"_blank\" title=\"Open new window\">【報導】最智慧的明新科大 打造未來人才新勢力</a></div>\n",
            "                      </div>\n",
            "                \n",
            "                      <div class=\"item\">\n",
            "                        <div class=\"date\">2022/01/12</div>\n",
            "                        <div class=\"title\"><a href=\"https://tw.appledaily.com/sports/20220111/TUC7OYOSVZGRJH7SINFSHQHF3U/\" target=\"_blank\" title=\"Open new window\">【新聞】前統一教練許聖杰轉換舞台 領軍明新科大挑戰公開組一級 蘋果新聞網</a></div>\n",
            "                      </div>\n",
            "                \n",
            "                      <div class=\"item\">\n",
            "                        <div class=\"date\">2022/01/04</div>\n",
            "                        <div class=\"title\"><a href=\"https://money.udn.com/money/story/5723/5999750\" target=\"_blank\" title=\"Open new window\">【報導】明新科大與高中職合作 國際賽7金大放異彩(經濟日報)</a></div>\n",
            "                      </div>\n",
            "                \n",
            "                      <div class=\"item\">\n",
            "                        <div class=\"date\">2021/12/30</div>\n",
            "                        <div class=\"title\"><a href=\"https://www.gvm.com.tw/article/85726\" target=\"_blank\" title=\"Open new window\">【報導】明新科大學生很搶手？老師被科技業追到不敢接電話(遠見雜誌)</a></div>\n",
            "                      </div>\n",
            "                \n",
            "                      <div class=\"item\">\n",
            "                        <div class=\"date\">2021/12/27</div>\n",
            "                        <div class=\"title\"><a href=\"https://money.udn.com/money/story/122263/5986647\" target=\"_blank\" title=\"Open new window\">【新聞】明新科大產學合作 培育運動人才(經濟日報)</a></div>\n",
            "                      </div>\n",
            "                \n",
            "                      <div class=\"item\">\n",
            "                        <div class=\"date\">2021/12/27</div>\n",
            "                        <div class=\"title\"><a href=\"https://sports.ltn.com.tw/news/breakingnews/3778745\" target=\"_blank\" title=\"Open new window\">【新聞】樂天桃猿與明新科大產學合作 「猿」助運動產業(自由時報)</a></div>\n",
            "                      </div>\n",
            "                \n",
            "                      <div class=\"item\">\n",
            "                        <div class=\"date\">2021/12/23</div>\n",
            "                        <div class=\"title\"><a href=\"https://www.youtube.com/watch?v=V6GcajVBPsA\" target=\"_blank\" title=\"Open new window\">【報導】(影)縣府.明新科大合作成立 新竹客家學苑開幕(客家新聞)</a></div>\n",
            "                      </div>\n",
            "                \n",
            "                      <div class=\"item\">\n",
            "                        <div class=\"date\">2021/12/20</div>\n",
            "                        <div class=\"title\"><a href=\"https://www.cna.com.tw/news/aloc/202112200111.aspx\" target=\"_blank\" title=\"Open new window\">【新聞】竹縣府與明新科大攜手 成立客家學苑(中央社)</a></div>\n",
            "                      </div>\n",
            "                \n",
            "                      <div class=\"item\">\n",
            "                        <div class=\"date\">2021/12/15</div>\n",
            "                        <div class=\"title\"><a href=\"https://ec.ltn.com.tw/article/breakingnews/3769495\" target=\"_blank\" title=\"Open new window\">【新聞】首批「半導體封裝工程師」證照發出(自由電子報)</a></div>\n",
            "                      </div>\n",
            "                <!-- end htmlType5 -->\n",
            "                    <div class=\"more\"><a href=\"http://webc1.must.edu.tw/jtmust062/index.php/news/co-report\" title=\"閱讀更多\">閱讀更多</a></div>\n",
            "\t\t\t\t\t</div>\n",
            "                    <div class=\"col-12 col-lg-5 d-none d-lg-block\"><img src=\"images/events.png\" alt=\"\"></div>\n",
            "                  </div>\n",
            "                </div>\n",
            "              </div>\n",
            "            </div>\n",
            "            \n",
            "          </div>\n",
            "        </div>\n",
            "      </div>\n",
            "    </div>\n",
            "    <!--校園新聞-->\n",
            "    <div class=\"block-events\">\n",
            "      <div class=\"container\">\n",
            "        <h2>校園新聞</h2>\n",
            "        <div class=\"home-events\">\n",
            "          <!-- start htmlType2 -->\n",
            "                  <div><a href=\"http://webc1.must.edu.tw/jtmust062/index.php/1699-1110225\" target=\"_blank\" title=\"守護學子交通安全 機械系、學務處與駕訓班合作開辦安全駕訓課程 (Open new window)\"><img src=\"https://mustwebsystem.must.edu.tw/ashx/chchou/showMustWwwImage.ashx?filegid=111016\" alt=\"守護學子交通安全 機械系、學務處與駕訓班合作開辦安全駕訓課程 \"><span class=\"title\">守護學子交通安全 機械系、學務處與駕訓班合作開辦安全駕訓課程 </span></a></div>\n",
            "    \t\t    \n",
            "                  <div><a href=\"https://www.gvm.com.tw/article/87095\" target=\"_blank\" title=\"最智慧的明新科大 打造未來人才新勢力(Open new window)\"><img src=\"https://mustwebsystem.must.edu.tw/ashx/chchou/showMustWwwImage.ashx?filegid=111014\" alt=\"最智慧的明新科大 打造未來人才新勢力\"><span class=\"title\">最智慧的明新科大 打造未來人才新勢力</span></a></div>\n",
            "    \t\t    \n",
            "                  <div><a href=\"http://webc1.must.edu.tw/jtmust062/index.php/1697-1110217\" target=\"_blank\" title=\"劉國偉校長訪陸軍機步269旅教學點 將開設二技、二專及語文專班(Open new window)\"><img src=\"https://mustwebsystem.must.edu.tw/ashx/chchou/showMustWwwImage.ashx?filegid=111007\" alt=\"劉國偉校長訪陸軍機步269旅教學點 將開設二技、二專及語文專班\"><span class=\"title\">劉國偉校長訪陸軍機步269旅教學點 將開設二技、二專及語文專班</span></a></div>\n",
            "    \t\t    \n",
            "                  <div><a href=\"http://webc1.must.edu.tw/jtmust062/index.php/1660-1110111\" target=\"_blank\" title=\"本校成立公開組棒球隊 前統一7-ELEVEn獅許聖杰接掌總教練(Open new window)\"><img src=\"https://mustwebsystem.must.edu.tw/ashx/chchou/showMustWwwImage.ashx?filegid=100989\" alt=\"本校成立公開組棒球隊 前統一7-ELEVEn獅許聖杰接掌總教練\"><span class=\"title\">本校成立公開組棒球隊 前統一7-ELEVEn獅許聖杰接掌總教練</span></a></div>\n",
            "    \t\t    \n",
            "                  <div><a href=\"http://webc1.must.edu.tw/jtmust062/index.php/1651-1101227\" target=\"_blank\" title=\"本校與高中職策略聯盟 合作培訓學生參加國際賽大放異彩(Open new window)\"><img src=\"https://mustwebsystem.must.edu.tw/ashx/chchou/showMustWwwImage.ashx?filegid=90985\" alt=\"本校與高中職策略聯盟 合作培訓學生參加國際賽大放異彩\"><span class=\"title\">本校與高中職策略聯盟 合作培訓學生參加國際賽大放異彩</span></a></div>\n",
            "    \t\t    \n",
            "                  <div><a href=\"http://webc1.must.edu.tw/jtmust062/index.php/1650-1101223\" target=\"_blank\" title=\"「猿」助運動產業最強戰力 本校與樂天桃猿簽訂產學MOU(Open new window)\"><img src=\"https://mustwebsystem.must.edu.tw/ashx/chchou/showMustWwwImage.ashx?filegid=80986\" alt=\"「猿」助運動產業最強戰力 本校與樂天桃猿簽訂產學MOU\"><span class=\"title\">「猿」助運動產業最強戰力 本校與樂天桃猿簽訂產學MOU</span></a></div>\n",
            "    \t\t    <!-- end htmlType2 -->\n",
            "\n",
            "            <div><a href=\"http://webc1.must.edu.tw/jtmust062/index.php/1442-1091231\" target=\"_blank\" title=\"推廣教育中心主動出擊 舉辦「在營專班」招生說明會\"><img src=\"https://mustwebsystem.must.edu.tw/ashx/chchou/showMustWwwImage.ashx?filegid=60655\" alt=\"推廣教育中心主動出擊 舉辦「在營專班」招生說明會\"><span class=\"title\">推廣教育中心主動出擊 舉辦「在營專班」招生說明會</span></a></div>\n",
            "            \n",
            "        </div>\n",
            "        <div class=\"more\"><a href=\"http://webc1.must.edu.tw/jtmust062/index.php/news/news\" title=\"校園新聞閱讀更多(另開視窗)\">閱讀更多</a></div>\n",
            "      </div>\n",
            "    </div>\n",
            "    <!--影音專區-->\n",
            "    <div class=\"block-videos\">\n",
            "      <div class=\"container\">\n",
            "        <h2>影音專區</h2>\n",
            "        <div class=\"home-videos\">\n",
            "        <!-- start htmlType3 -->\n",
            "                      <div><div class=\"videorwd\"><iframe width=\"100%\" height=\"315\" src=\"https://www.youtube.com/embed/PlRZ7vdkN-o\" frameborder=\"0\" allow=\"accelerometer; autoplay; clipboard-write; encrypted-media; gyroscope; picture-in-picture\" allowfullscreen title=\"2022運動事業管理系-形象篇\"></iframe></div></div>\n",
            "    \t\t    \n",
            "                      <div><div class=\"videorwd\"><iframe width=\"100%\" height=\"315\" src=\"https://www.youtube.com/embed/qEmz6jP5URk\" frameborder=\"0\" allow=\"accelerometer; autoplay; clipboard-write; encrypted-media; gyroscope; picture-in-picture\" allowfullscreen title=\"境外生談明新/UECFOCS海外聯合招生委員會\"></iframe></div></div>\n",
            "    \t\t    \n",
            "                      <div><div class=\"videorwd\"><iframe width=\"100%\" height=\"315\" src=\"https://www.youtube.com/embed/g711edtlbas\" frameborder=\"0\" allow=\"accelerometer; autoplay; clipboard-write; encrypted-media; gyroscope; picture-in-picture\" allowfullscreen title=\"明新科大成立公開組棒球隊許聖杰接掌總教練 新竹振道新聞\"></iframe></div></div>\n",
            "    \t\t    \n",
            "                      <div><div class=\"videorwd\"><iframe width=\"100%\" height=\"315\" src=\"https://www.youtube.com/embed/YNaT1z-7nLE\" frameborder=\"0\" allow=\"accelerometer; autoplay; clipboard-write; encrypted-media; gyroscope; picture-in-picture\" allowfullscreen title=\"明日之星：迎接雙語國家政策 外語人才培訓與職涯願景\"></iframe></div></div>\n",
            "    \t\t    \n",
            "                      <div><div class=\"videorwd\"><iframe width=\"100%\" height=\"315\" src=\"https://www.youtube.com/embed/3L9VWG1B4Kg\" frameborder=\"0\" allow=\"accelerometer; autoplay; clipboard-write; encrypted-media; gyroscope; picture-in-picture\" allowfullscreen title=\"【Cheers Talk】明新科大副教務長：貼合產業需求，鏈結國際化人才培訓\"></iframe></div></div>\n",
            "    \t\t    <!-- end htmlType3 -->\n",
            "        </div>\n",
            "      </div>\n",
            "    </div>\n",
            "    <!--相關連結-->\n",
            "    <div class=\"block-links\">\n",
            "      <div class=\"container\">\n",
            "        <h2>相關連結</h2>\n",
            "        <div class=\"links-tab\">\n",
            "           <ul class=\"nav nav-pill\" id=\"news-pills-tab\" role=\"tablist\">\n",
            "            <li class=\"nav-item\">\n",
            "              <a class=\"nav-link active\" id=\"links-hot-tab\" data-toggle=\"pill\" href=\"#pills-links-hot\" role=\"tab\"\n",
            "                aria-controls=\"pills-links-hot\" aria-selected=\"true\" title=\"熱門專題\">熱門專題</a>\n",
            "            </li>\n",
            "            <li class=\"nav-item\">\n",
            "              <a class=\"nav-link\" id=\"pills-links-student-tab\" data-toggle=\"pill\" href=\"#pills-links-student\" role=\"tab\"\n",
            "                aria-controls=\"pills-links-student\" aria-selected=\"false\" title=\"學生常用資訊\">學生常用資訊</a>\n",
            "            </li>\n",
            "            <li class=\"nav-item\">\n",
            "              <a class=\"nav-link\" id=\"pills-links-employee-tab\" data-toggle=\"pill\" href=\"#pills-links-employee\"\n",
            "                role=\"tab\" aria-controls=\"pills-links-employee\" aria-selected=\"false\" title=\"教職員常用資訊\">教職員常用資訊</a>\n",
            "            </li>\n",
            "            <li class=\"nav-item\">\n",
            "              <a class=\"nav-link\" id=\"pills-links-jobs-tab\" data-toggle=\"pill\" href=\"#pills-links-jobs\" role=\"tab\"\n",
            "                aria-controls=\"pills-links-jobs\" aria-selected=\"false\" title=\"求職與政令宣導\">求職與政令宣導</a>\n",
            "            </li>\n",
            "            <li class=\"nav-item\">\n",
            "              <a class=\"nav-link\" id=\"pills-links-theme-tab\" data-toggle=\"pill\" href=\"#pills-links-theme\" role=\"tab\"\n",
            "                aria-controls=\"pills-links-theme\" aria-selected=\"false\" title=\"主題宣導\">主題宣導</a>\n",
            "            </li>\n",
            "            <li class=\"nav-item\">\n",
            "              <a class=\"nav-link\" id=\"pills-links-other-tab\" data-toggle=\"pill\" href=\"#pills-links-other\" role=\"tab\"\n",
            "                aria-controls=\"pills-links-other\" aria-selected=\"false\" title=\"其他\">其他</a>\n",
            "            </li>\n",
            "          </ul>\n",
            "          <div class=\"tab-content\" id=\"pills-tabContent\">\n",
            "            <!--熱門專題-->\n",
            "            <div class=\"tab-pane fade show active\" id=\"pills-links-hot\" role=\"tabpanel\"\n",
            "              aria-labelledby=\"pills-links-hot-tab\">\n",
            "              <div class=\"panel panel-default\">\n",
            "                <div class=\"panel-heading\">\n",
            "                  <div class=\"panel-title\">\n",
            "                    <a data-toggle=\"collapse\" data-parent=\".tab-pane\" href=\"#collapse-links-hot\" class=\"collapsed\"\n",
            "                      aria-expanded=\"false\" title=\"熱門專題\">\n",
            "                      熱門專題\n",
            "                    </a>\n",
            "                  </div>\n",
            "                </div>\n",
            "                <div id=\"collapse-links-hot\" class=\"panel-collapse in collapse\">\n",
            "                  <div class=\"panel-body row links-wrap\">\n",
            "                    <div class=\"col-6 col-md-3\">\n",
            "                      <a class=\"item\" href=\"https://www.facebook.com/hhfnpp\" target=\"_blank\" title=\"非營利幼兒園專區(另開視窗)\"><img src=\"images/links-icon01.svg\"\n",
            "                          alt=\"非營利幼兒園專區 icon\"><span class=\"title\">非營利幼兒園專區</span></a>\n",
            "                    </div>\n",
            "                    <div class=\"col-6 col-md-3\">\n",
            "                      <a class=\"item\" href=\"https://bit.ly/2V9owBI\" target=\"_blank\" title=\"明日之星(另開視窗)\"><img src=\"images/links-icon02.svg\"\n",
            "                          alt=\"明日之星 icon\"><span class=\"title\">明日之星</span></a>\n",
            "                    </div>\n",
            "                    <div class=\"col-6 col-md-3\">\n",
            "                      <a class=\"item\" href=\"https://www.must.edu.tw/admissions.php\" target=\"_blank\" title=\"招生專區(另開視窗)\"><img src=\"images/links-icon03.svg\"\n",
            "                          alt=\"招生專區 icon\"><span class=\"title\">招生專區</span></a>\n",
            "                    </div>\n",
            "                    <div class=\"col-6 col-md-3\">\n",
            "                      <a class=\"item\" href=\"https://eec.must.edu.tw/index/index.aspx\" target=\"_blank\" title=\"推廣教育中心(另開視窗)\"><img src=\"images/links-icon04.svg\"\n",
            "                          alt=\"推廣教育中心 icon\"><span class=\"title\">推廣教育中心</span></a>\n",
            "                    </div>\n",
            "                    <div class=\"col-6 col-md-3\">\n",
            "                      <a class=\"item\" href=\"https://sites.google.com/site/mustfreshman\" target=\"_blank\" title=\"新生專區(另開視窗)\"><img src=\"images/links-icon05.svg\"\n",
            "                          alt=\"新生專區 icon\"><span class=\"title\">新生專區</span></a>\n",
            "                    </div>\n",
            "                    <div class=\"col-6 col-md-3\">\n",
            "                      <a class=\"item\" href=\"https://sss.must.edu.tw/std_service.html\" target=\"_blank\" title=\"學生專區(另開視窗)\"><img src=\"images/links-icon06.svg\"\n",
            "                          alt=\"學生專區 icon\"><span class=\"title\">學生專區</span></a>\n",
            "                    </div>\n",
            "                    <div class=\"col-6 col-md-3\">\n",
            "                      <a class=\"item\" href=\"https://sss.must.edu.tw/pars_new/pars_index.asp\" target=\"_blank\" title=\"家長關懷專區(另開視窗)\"><img src=\"images/links-icon07.svg\"\n",
            "                          alt=\"家長關懷專區 icon\"><span class=\"title\">家長關懷專區</span></a>\n",
            "                    </div>\n",
            "                    <div class=\"col-6 col-md-3\">\n",
            "                      <a class=\"item\" href=\"http://webs.must.edu.tw/ocmust006\" target=\"_blank\" title=\"獎助學金專區(另開視窗)\"><img src=\"images/links-icon44.svg\"\n",
            "                          alt=\"獎助學金專區 icon\"><span class=\"title\">獎助學金專區</span></a>\n",
            "                    </div>\n",
            "                  </div>\n",
            "                </div>\n",
            "              </div>\n",
            "            </div>\n",
            "            <!-- 學生常用資訊-->\n",
            "            <div class=\"tab-pane\" id=\"pills-links-student\" role=\"tabpanel\" aria-labelledby=\"pills-links-student-tab\">\n",
            "              <div class=\"panel panel-default\">\n",
            "                <div class=\"panel-heading\">\n",
            "                  <div class=\"panel-title\">\n",
            "                    <a data-toggle=\"collapse\" data-parent=\".tab-pane\" href=\"#collapse-links-student\" class=\"collapsed\"\n",
            "                      aria-expanded=\"false\" title=\"學生常用資訊\">\n",
            "                      學生常用資訊\n",
            "                    </a>\n",
            "                  </div>\n",
            "                </div>\n",
            "                <div id=\"collapse-links-student\" class=\"panel-collapse in collapse\">\n",
            "                  <div class=\"panel-body row links-wrap\">\n",
            "                    <div class=\"col-6 col-md-3\">\n",
            "                      <a class=\"item\" href=\"https://sss.must.edu.tw/\" target=\"_blank\" title=\"學生資訊服務系統(另開視窗)\"><img src=\"images/links-icon08.svg\"\n",
            "                          alt=\"學生資訊服務系統 icon\"><span class=\"title\">學生資訊服務系統</span></a>\n",
            "                    </div>\n",
            "                    <div class=\"col-6 col-md-3\">\n",
            "                      <a class=\"item\" href=\"https://mustwebsystem.must.edu.tw/muststdsystem/index.aspx\" target=\"_blank\" title=\"校務學生資訊系統(另開視窗)\"><img src=\"images/links-icon09.svg\"\n",
            "                          alt=\"校務學生資訊系統 icon\"><span class=\"title\">校務學生資訊系統</span></a>\n",
            "                    </div>\n",
            "                    <div class=\"col-6 col-md-3\">\n",
            "                      <a class=\"item\" href=\"http://std.must.edu.tw/\" target=\"_blank\" title=\"學生郵件服務系統(另開視窗)\"><img src=\"images/links-icon10.svg\"\n",
            "                          alt=\"學生郵件服務系統 icon\"><span class=\"title\">學生郵件服務系統</span></a>\n",
            "                    </div>\n",
            "                    <div class=\"col-6 col-md-3\">\n",
            "                      <a class=\"item\" href=\"https://sss.must.edu.tw/?system=b3\" target=\"_blank\" title=\"電子歷程檔案系統(另開視窗)\"><img src=\"images/links-icon11.svg\"\n",
            "                          alt=\"電子歷程檔案系統 icon\"><span class=\"title\">電子歷程檔案系統</span></a>\n",
            "                    </div>\n",
            "                    <div class=\"col-6 col-md-3\">\n",
            "                      <a class=\"item\" href=\"https://sss.must.edu.tw/tuiRegistry/tuiRegistry_index.asp\" target=\"_blank\" title=\"學雜費網路服務系統(另開視窗)\"><img src=\"images/links-icon12.svg\"\n",
            "                          alt=\"學雜費網路服務系統 icon\"><span class=\"title\">學雜費網路服務系統</span></a>\n",
            "                    </div>\n",
            "                    <div class=\"col-6 col-md-3\">\n",
            "                      <a class=\"item\" href=\"https://int.must.edu.tw/\" target=\"_blank\" title=\"校外實習管理系統(另開視窗)\"><img src=\"images/links-icon13.svg\"\n",
            "                          alt=\"校外實習管理系統 icon\"><span class=\"title\">校外實習管理系統</span></a>\n",
            "                    </div>\n",
            "                    <div class=\"col-6 col-md-3\">\n",
            "                      <a class=\"item\" href=\"https://sss.must.edu.tw/?system=b5\" target=\"_blank\" title=\"進修部學生網路請假系統(另開視窗)\"><img src=\"images/links-icon14.svg\"\n",
            "                          alt=\"進修部學生網路請假系統 icon\"><span class=\"title\">進修部學生網路請假系統</span></a>\n",
            "                    </div>\n",
            "                    <div class=\"col-6 col-md-3\">\n",
            "                      <a class=\"item\" href=\"https://sss.must.edu.tw/?system=b4\" target=\"_blank\" title=\"學生離校申請(另開視窗)\"><img src=\"images/links-icon15.svg\"\n",
            "                          alt=\"學生離校申請 icon\"><span class=\"title\">學生離校申請</span></a>\n",
            "                    </div>\n",
            "\n",
            "                  </div>\n",
            "                </div>\n",
            "              </div>\n",
            "            </div>\n",
            "            <!-- 教職員常用資訊-->\n",
            "            <div class=\"tab-pane\" id=\"pills-links-employee\" role=\"tabpanel\" aria-labelledby=\"pills-links-employee-tab\">\n",
            "              <div class=\"panel panel-default\">\n",
            "                <div class=\"panel-heading\">\n",
            "                  <div class=\"panel-title\">\n",
            "                    <a data-toggle=\"collapse\" data-parent=\".tab-pane\" href=\"#collapse-links-employee\" class=\"collapsed\"\n",
            "                      aria-expanded=\"false\" title=\"教職員常用資訊\">\n",
            "                      教職員常用資訊\n",
            "                    </a>\n",
            "                  </div>\n",
            "                </div>\n",
            "                <div id=\"collapse-links-employee\" class=\"panel-collapse in collapse\">\n",
            "                  <div class=\"panel-body row links-wrap\">\n",
            "                    <div class=\"col-6 col-md-3\">\n",
            "                      <a class=\"item\" href=\"https://sss.must.edu.tw/teachinfo/\" target=\"_blank\" title=\"教職員資訊服務系統(另開視窗)\"><img src=\"images/links-icon16.svg\"\n",
            "                          alt=\"教職員資訊服務系統 icon\"><span class=\"title\">教職員資訊服務系統</span></a>\n",
            "                    </div>\n",
            "                    <div class=\"col-6 col-md-3\">\n",
            "                      <a class=\"item\" href=\"http://mail.must.edu.tw/\" target=\"_blank\" title=\"教職員郵件服務系統(另開視窗)\"><img src=\"images/links-icon17.svg\"\n",
            "                          alt=\"教職員郵件服務系統 icon\"><span class=\"title\">教職員郵件服務系統</span></a>\n",
            "                    </div>\n",
            "                    <div class=\"col-6 col-md-3\">\n",
            "                      <a class=\"item\" href=\"https://mustwebsystem.must.edu.tw/\" target=\"_blank\" title=\"教職員校務行政資訊系統 (單一簽入)(另開視窗)\"><img src=\"images/links-icon18.svg\"\n",
            "                          alt=\"校務行政資訊系統 icon\"><span class=\"title\">教職員校務行政資訊系統 (單一簽入)</span></a>\n",
            "                    </div>\n",
            "                    <div class=\"col-6 col-md-3\">\n",
            "                      <a class=\"item\" href=\"https://u1.must.edu.tw/\" target=\"_blank\" title=\"行政U1管理系統(另開視窗)\"><img src=\"images/links-icon19.svg\"\n",
            "                          alt=\"行政U1管理系統 icon\"><span class=\"title\">行政U1管理系統</span></a>\n",
            "                    </div>\n",
            "                    <div class=\"col-6 col-md-3\">\n",
            "                      <a class=\"item\" href=\"https://accounting.must.edu.tw/alltop/\" target=\"_blank\" title=\"會計總務系統(另開視窗)\"><img src=\"images/links-icon20.svg\"\n",
            "                          alt=\"會計總務系統 icon\"><span class=\"title\">會計總務系統</span></a>\n",
            "                    </div>\n",
            "                    <div class=\"col-6 col-md-3\">\n",
            "                      <a class=\"item\" href=\"https://frdp.must.edu.tw/industrywebsystem/\" target=\"_blank\" title=\"教師進行產業研習或研究管理系統(另開視窗)\"><img src=\"images/links-icon21.svg\"\n",
            "                          alt=\"教師進行產業研習或研究管理系統 icon\"><span class=\"title\">教師進行產業研習或研究管理系統</span></a>\n",
            "                    </div>\n",
            "                    <div class=\"col-6 col-md-3\">\n",
            "                      <a class=\"item\" href=\"https://sss.must.edu.tw/RWD_CosInfo/\" target=\"_blank\" title=\"開課資訊查詢服務(另開視窗)\"><img src=\"images/links-icon22.svg\"\n",
            "                          alt=\"開課資訊查詢服務 icon\"><span class=\"title\">開課資訊查詢服務</span></a>\n",
            "                    </div>\n",
            "\n",
            "                  </div>\n",
            "                </div>\n",
            "              </div>\n",
            "            </div>\n",
            "            <!-- 求職與政令宣導-->\n",
            "            <div class=\"tab-pane\" id=\"pills-links-jobs\" role=\"tabpanel\" aria-labelledby=\"pills-links-jobs-tab\">\n",
            "              <div class=\"panel panel-default\">\n",
            "                <div class=\"panel-heading\">\n",
            "                  <div class=\"panel-title\">\n",
            "                    <a data-toggle=\"collapse\" data-parent=\".tab-pane\" href=\"#collapse-links-jobs\" class=\"collapsed\"\n",
            "                      aria-expanded=\"false\" title=\"求職與政令宣導\">\n",
            "                      求職與政令宣導\n",
            "                    </a>\n",
            "                  </div>\n",
            "                </div>\n",
            "                <div id=\"collapse-links-jobs\" class=\"panel-collapse in collapse\">\n",
            "                  <div class=\"panel-body row links-wrap\">\n",
            "                    <div class=\"col-6 col-md-3\">\n",
            "                      <a class=\"item\" href=\"http://questionnaire.must.edu.tw/\" target=\"_blank\" title=\"求職徵才專區(另開視窗)\"><img src=\"images/links-icon23.svg\"\n",
            "                          alt=\"求職徵才專區 icon\"><span class=\"title\">求職徵才專區</span></a>\n",
            "                    </div>\n",
            "                    <div class=\"col-6 col-md-3\">\n",
            "                      <a class=\"item\" href=\"http://webc1.must.edu.tw/jtmust069/index.php/2017-02-22-01-45-30/384-2022-3-10\" target=\"_blank\" title=\"2022校園徵才就業博覽會(另開視窗)\"><img src=\"images/links-icon24.svg\"\n",
            "                          alt=\"2022校園徵才就業博覽會 icon\"><span class=\"title\">2022校園徵才就業博覽會</span></a>\n",
            "                    </div>\n",
            "                    <div class=\"col-6 col-md-3\">\n",
            "                      <a class=\"item\" href=\"https://ucan.moe.edu.tw/Account/Login.aspx\" target=\"_blank\" title=\"UCAN大專校院就職平台網站(另開視窗)\"><img src=\"images/links-icon25.svg\"\n",
            "                          alt=\"UCAN大專校院就職平台網站 icon\"><span class=\"title\">UCAN大專校院就職平台網站</span></a>\n",
            "                    </div>\n",
            "                    <div class=\"col-6 col-md-3\">\n",
            "                      <a class=\"item\" href=\"http://www.moex.gov.tw/\" target=\"_blank\" title=\"考選部全球資訊網(另開視窗)\"><img src=\"images/links-icon26.svg\"\n",
            "                          alt=\"考選部全球資訊網 icon\"><span class=\"title\">考選部全球資訊網</span></a>\n",
            "                    </div>\n",
            "                    <div class=\"col-6 col-md-3\">\n",
            "                      <a class=\"item\" href=\"http://www.104.com.tw/\" target=\"_blank\" title=\"104人力銀行(另開視窗)\"><img src=\"images/links-icon27.svg\"\n",
            "                          alt=\"104人力銀行 icon\"><span class=\"title\">104人力銀行</span></a>\n",
            "                    </div>\n",
            "                    <div class=\"col-6 col-md-3\">\n",
            "                      <a class=\"item\" href=\"http://www.1111.com.tw/\" target=\"_blank\" title=\"1111人力銀行(另開視窗)\"><img src=\"images/links-icon28.svg\"\n",
            "                          alt=\"1111人力銀行 icon\"><span class=\"title\">1111人力銀行</span></a>\n",
            "                    </div>\n",
            "                    <div class=\"col-6 col-md-3\">\n",
            "                      <a class=\"item\" href=\"https://questionnaire.must.edu.tw/\" target=\"_blank\" title=\"畢業生流向追蹤問卷調查(另開視窗)\"><img src=\"images/links-icon29.svg\"\n",
            "                          alt=\"畢業生流向追蹤問卷調查 icon\"><span class=\"title\">畢業生流向追蹤問卷調查</span></a>\n",
            "                    </div>\n",
            "\t\t\t\t\t\n",
            "\t\t\t\t\t<div class=\"col-6 col-md-3\">\n",
            "                      <a class=\"item\" href=\"https://www.mol.gov.tw/topic/44761/48532/?roleL1=48555\" target=\"_blank\" title=\"110年協助應屆畢業青年就業措施(另開視窗)\"><img src=\"images/110-101-icon.svg\"\n",
            "                          alt=\"110應屆畢青年架構 icon\"><span class=\"title\">110年協助應屆畢業青年就業措施</span></a>\n",
            "                    </div>\n",
            "\t\t\t\t\t\n",
            "                  </div>\n",
            "                </div>\n",
            "              </div>\n",
            "            </div>\n",
            "            <!-- 主題宣導-->\n",
            "            <div class=\"tab-pane\" id=\"pills-links-theme\" role=\"tabpanel\" aria-labelledby=\"pills-links-theme-tab\">\n",
            "              <div class=\"panel panel-default\">\n",
            "                <div class=\"panel-heading\">\n",
            "                  <div class=\"panel-title\">\n",
            "                    <a data-toggle=\"collapse\" data-parent=\".tab-pane\" href=\"#collapse-links-theme\" class=\"collapsed\"\n",
            "                      aria-expanded=\"false\" title=\"主題宣導\">\n",
            "                      主題宣導\n",
            "                    </a>\n",
            "                  </div>\n",
            "                </div>\n",
            "                <div id=\"collapse-links-theme\" class=\"panel-collapse in collapse\">\n",
            "                  <div class=\"panel-body row links-wrap\">\n",
            "                    <div class=\"col-6 col-md-3\">\n",
            "                      <a class=\"item\" href=\"http://webc1.must.edu.tw/jtmust064/\" target=\"_blank\" title=\"性別平等教育專區(另開視窗)\"><img src=\"images/links-icon30.svg\"\n",
            "                          alt=\"性別平等教育專區 icon\"><span class=\"title\">性別平等教育專區</span></a>\n",
            "                    </div>\n",
            "                    <div class=\"col-6 col-md-3\">\n",
            "                      <a class=\"item\" href=\"http://webc1.must.edu.tw/mustj007/index.php/2017-02-17-06-43-19/2017-02-18-01-40-56/2017-02-18-06-30-33\" target=\"_blank\" title=\"性騷擾暨性侵犯申訴管道(另開視窗)\"><img src=\"images/links-icon31.svg\"\n",
            "                          alt=\"性騷擾暨性侵犯申訴管道 icon\"><span class=\"title\">性騷擾暨性侵犯申訴管道</span></a>\n",
            "                    </div>\n",
            "                    <div class=\"col-6 col-md-3\">\n",
            "                      <a class=\"item\" href=\"http://webs.must.edu.tw/ocmust004/index.php/2017-09-04-05-42-33\" target=\"_blank\" title=\"保護及尊重智慧財產權(另開視窗)\"><img src=\"images/links-icon32.svg\"\n",
            "                          alt=\"保護及尊重智慧財產權 icon\"><span class=\"title\">保護及尊重智慧財產權</span></a>\n",
            "                    </div>\n",
            "                    <div class=\"col-6 col-md-3\">\n",
            "                      <a class=\"item\" href=\"http://webs.must.edu.tw/ocmust004/index.php/2017-09-04-05-43-40\" target=\"_blank\" title=\"個資保護專區(另開視窗)\"><img src=\"images/links-icon33.svg\"\n",
            "                          alt=\"個資保護專區 icon\"><span class=\"title\">個資保護專區</span></a>\n",
            "                    </div>\n",
            "                    <div class=\"col-6 col-md-3\">\n",
            "                      <a class=\"item\" href=\"http://www.165.gov.tw/\" target=\"_blank\" title=\"警政署反詐騙165(另開視窗)\"><img src=\"images/links-icon34.svg\"\n",
            "                          alt=\"警政署反詐騙165 icon\"><span class=\"title\">警政署反詐騙165</span></a>\n",
            "                    </div>\n",
            "                    <div class=\"col-6 col-md-3\">\n",
            "                      <a class=\"item\" href=\"https://nit.immigration.gov.tw/\" target=\"_blank\" title=\"新住民數位資訊e網(另開視窗)\"><img src=\"images/links-icon35.svg\"\n",
            "                          alt=\"新住民數位資訊e網 icon\"><span class=\"title\">新住民數位資訊e網</span></a>\n",
            "                    </div>\n",
            "\n",
            "                  </div>\n",
            "                </div>\n",
            "              </div>\n",
            "            </div>\n",
            "            <!-- 其他-->\n",
            "            <div class=\"tab-pane\" id=\"pills-links-other\" role=\"tabpanel\" aria-labelledby=\"pills-links-other-tab\">\n",
            "              <div class=\"panel panel-default\">\n",
            "                <div class=\"panel-heading\">\n",
            "                  <div class=\"panel-title\">\n",
            "                    <a data-toggle=\"collapse\" data-parent=\".tab-pane\" href=\"#collapse-links-other\" class=\"collapsed\"\n",
            "                      aria-expanded=\"false\" title=\"其他\">\n",
            "                      其他\n",
            "                    </a>\n",
            "                  </div>\n",
            "                </div>\n",
            "                <div id=\"collapse-links-other\" class=\"panel-collapse in collapse\">\n",
            "                  <div class=\"panel-body row links-wrap\">\n",
            "                    <div class=\"col-6 col-md-3\">\n",
            "                      <a class=\"item\" href=\"https://actss.must.edu.tw/MingStdAssocD/main.aspx\" target=\"_blank\" title=\"學生社團管理系統(另開視窗)\"><img src=\"images/links-icon36.svg\"\n",
            "                          alt=\"學生社團管理系統 icon\"><span class=\"title\">學生社團管理系統</span></a>\n",
            "                    </div>\n",
            "                    <div class=\"col-6 col-md-3\">\n",
            "                      <a class=\"item\" href=\"http://webc2.must.edu.tw/jtmust037\" target=\"_blank\" title=\"學生住宿相關資訊(另開視窗)\"><img src=\"images/links-icon37.svg\"\n",
            "                          alt=\"學生住宿相關資訊 icon\"><span class=\"title\">學生住宿相關資訊</span></a>\n",
            "                    </div>\n",
            "                    <div class=\"col-6 col-md-3\">\n",
            "                      <a class=\"item\" href=\"https://mustwebsystem.must.edu.tw/muststdsystem\" target=\"_blank\" title=\"學生住宿資訊系統(另開視窗)\"><img src=\"images/links-icon38.svg\"\n",
            "                          alt=\"學生住宿資訊系統 icon\"><span class=\"title\">學生住宿資訊系統</span></a>\n",
            "                    </div>\n",
            "                    <div class=\"col-6 col-md-3\">\n",
            "                      <a class=\"item\" href=\"https://tronclass.must.edu.tw/\" target=\"_blank\" title=\"TronClass數位學習平台系統(另開視窗)\"><img src=\"images/links-icon39.svg\"\n",
            "                          alt=\"TronClass數位學習平台系統 icon\"><span class=\"title\">TronClass數位學習平台系統</span></a>\n",
            "                    </div>\n",
            "                    <div class=\"col-6 col-md-3\">\n",
            "                      <a class=\"item\" href=\"http://webhdd2.must.edu.tw/\" target=\"_blank\" title=\"網路硬碟(新)(另開視窗)\"><img src=\"images/links-icon40.svg\"\n",
            "                          alt=\"網路硬碟(新) icon\"><span class=\"title\">網路硬碟(新)</span></a>\n",
            "                    </div>\n",
            "                    <div class=\"col-6 col-md-3\">\n",
            "                      <a class=\"item\" href=\"http://www.cc.must.edu.tw/maintain-online/conkout_state.asp\" target=\"_blank\" title=\"電腦維修服務(另開視窗)\"><img src=\"images/links-icon41.svg\"\n",
            "                          alt=\"電腦維修服務 icon\"><span class=\"title\">電腦維修服務</span></a>\n",
            "                    </div>\n",
            "                    <div class=\"col-6 col-md-3\">\n",
            "                      <a class=\"item\" href=\"http://ftp.must.edu.tw/\" target=\"_blank\" title=\"全校授權軟體下載(僅限校內使用)(另開視窗)\"><img src=\"images/links-icon42.svg\"\n",
            "                          alt=\"全校授權軟體下載(僅限校內使用) icon\"><span class=\"title\">全校授權軟體下載(僅限校內使用)</span></a>\n",
            "                    </div>\n",
            "                    <div class=\"col-6 col-md-3\">\n",
            "                      <a class=\"item\" href=\"https://accounting.must.edu.tw/alltop_bus/index.php\" target=\"_blank\" title=\"付款紀錄查詢系統(另開視窗)\"><img src=\"images/links-icon43.svg\"\n",
            "                          alt=\"付款紀錄查詢系統 icon\"><span class=\"title\">付款紀錄查詢系統</span></a>\n",
            "                    </div>\n",
            "                  </div>\n",
            "                </div>\n",
            "              </div>\n",
            "            </div>\n",
            "          </div>\n",
            "        </div>\n",
            "      </div>\n",
            "    </div>\n",
            "    </div>\n",
            "    </maiin>\n",
            "    <footer>\n",
            "    <div class=\"container\">\n",
            "        <div class=\"row\">\n",
            "            <div class=\"col-12 col-md-7 item\">\n",
            "                <div class=\"title\">校園連結</div>\n",
            "                <ul class=\"campus-links\">\n",
            "                    <li><a href=\"https://mustwebsystem.must.edu.tw/\" target=\"_blank\"\n",
            "                            title=\"教職員校務行政資訊系統 (單一簽入)(另開視窗)\">教職員校務行政資訊系統 (單一簽入)</a></li>\n",
            "                    <li><a href=\"https://teachinfo.must.edu.tw\" target=\"_blank\"\n",
            "                            title=\"教職員資訊服務系統(另開視窗)\">教職員資訊服務系統</a></li>\n",
            "                    <li><a href=\"http://mail.must.edu.tw/\" target=\"_blank\" title=\"教職員郵件服務系統(另開視窗)\">教職員郵件服務系統</a></li>\n",
            "                    <li><a href=\"https://accounting.must.edu.tw/alltop/\" target=\"_blank\" title=\"會計總務系統(另開視窗)\">會計總務系統</a>\n",
            "                    </li>\n",
            "                    <li><a href=\"https://frdp.must.edu.tw/industrywebsystem/\" target=\"_blank\"\n",
            "                            title=\"教師進行產業研習或研究管理系統(另開視窗)\">教師進行產業研習或研究管理系統</a></li>\n",
            "                    <li><a href=\"https://sss.must.edu.tw/RWD_CosInfo/\" target=\"_blank\"\n",
            "                            title=\"開課資訊查詢服務(另開視窗)\">開課資訊查詢服務</a></li>\n",
            "                    <li><a href=\"https://sss.must.edu.tw/tuiRegistry/tuiRegistry_index.asp\" target=\"_blank\"\n",
            "                            title=\"學雜費網路服務系統(另開視窗)\">學雜費網路服務系統</a></li>\n",
            "                    <li><a href=\"https://sss.must.edu.tw/\" target=\"_blank\" title=\"學生資訊服務系統(另開視窗)\">學生資訊服務系統</a></li>\n",
            "                    <li><a href=\"https://mustwebsystem.must.edu.tw/muststdsystem/index.aspx\" target=\"_blank\" title=\"校務學生資訊系統(另開視窗)\">校務學生資訊系統</a>\n",
            "                    </li>\n",
            "                    <li><a href=\"http://std.must.edu.tw/\" target=\"_blank\" title=\"學生郵件服務系統(另開視窗)\">學生郵件服務系統</a></li>\n",
            "                    <li><a href=\"https://sss.must.edu.tw/?system=b3\" target=\"_blank\"\n",
            "                            title=\"電子歷程檔案系統(另開視窗)\">電子歷程檔案系統(e-Portfolio)</a></li>\n",
            "                    <li><a href=\"https://int.must.edu.tw/\" target=\"_blank\" title=\"校外實習管理系統(另開視窗)\">校外實習管理系統</a></li>\n",
            "                    <li><a href=\"https://actss.must.edu.tw/MingStdAssocD/main.aspx\" target=\"_blank\"\n",
            "                            title=\"學生社團(另開視窗)\">學生社團</a></li>\n",
            "                    <li><a href=\"https://webc2.must.edu.tw/jtmust037\" target=\"_blank\" title=\"學生住宿相關資訊(另開視窗)\">學生住宿相關資訊</a>\n",
            "                    </li>\n",
            "                    <li><a href=\"https://sss.must.edu.tw/?system=b5\" target=\"_blank\"\n",
            "                            title=\"進修部學生網路請假系統(另開視窗)\">進修部學生網路請假系統</a></li>\n",
            "                    <li><a href=\"httpS://tronclass.must.edu.tw/\" target=\"_blank\"\n",
            "                            title=\"TronClass數位學習平台系統(另開視窗)\">TronClass數位學習平台系統</a></li>\n",
            "                    <li><a href=\"http://webhdd2.must.edu.tw/\" target=\"_blank\" title=\"網路硬碟(新)(另開視窗)\">網路硬碟(新)</a></li>\n",
            "                    <li><a href=\"https://questionnaire.must.edu.tw/\" target=\"_blank\" title=\"畢業生流向追蹤問卷調查(另開視窗)\">畢業生流向追蹤問卷調查</a></li>\n",
            "                    <li><a href=\"https://u1.must.edu.tw/\" target=\"_blank\" title=\"行政u1管理系統(另開視窗)\">行政u1管理系統</a></li>\n",
            "                    <li><a href=\"https://sss.must.edu.tw/?system=b4\" target=\"_blank\" title=\"學生離校申請(另開視窗)\">學生離校申請</a>\n",
            "                    </li>\n",
            "                    <li><a href=\"http://webs.must.edu.tw/ocmust002\" target=\"_blank\" title=\"新竹縣北區居家托育服務中心-將另開新視窗\">新竹縣北區居家托育服務中心(原社區保母系統)</a></li>              \n",
            "\t\t\t\t\t<li><a href=\"https://journal.must.edu.tw/\" target=\"_blank\" title=\"明新學報-將另開新視窗\">明新學報</a></li>\n",
            "\t\t\t\t\t</ul>\n",
            "            </div>\n",
            "            <div class=\"col-12 col-md-5 item\">\n",
            "                <div class=\"title\">資訊公開連結</div>\n",
            "                <ul class=\"info-links\">\n",
            "                    <li><a href=\"http://webs.must.edu.tw/ocmust008/\" target=\"_blank\" title=\"校務公開資訊(另開視窗)\">校務公開資訊</a>\n",
            "                    </li>\n",
            "                    <li><a href=\"http://webs.must.edu.tw/jtmust060\" target=\"_blank\" title=\"弱勢助學勸募(另開視窗)\">弱勢助學勸募</a></li>\n",
            "                    <li><a href=\"http://webc2.must.edu.tw/jtmust008\" target=\"_blank\" title=\"活動展覽(另開視窗)\">活動展覽</a></li>\n",
            "                    <li><a href=\"https://sss.must.edu.tw/pars_new/pars_index.asp\" target=\"_blank\"\n",
            "                            title=\"家長關懷系統(另開視窗)\">家長關懷系統</a></li>\n",
            "                    <li><a href=\"http://webc1.must.edu.tw/jtmust064/\" target=\"_blank\"\n",
            "                            title=\"性別平等教育專區(另開視窗)\">性別平等教育專區</a></li>\n",
            "                    <li><a href=\"http://webc1.must.edu.tw/mustj007/index.php/2017-02-17-06-43-19/2017-02-18-01-40-56/2017-02-18-06-30-33\"\n",
            "                            target=\"_blank\" title=\"1性騷擾暨性侵犯申訴管道(另開視窗)\">性騷擾暨性侵犯申訴管道</a></li>\n",
            "                    <li><a href=\"http://webs.must.edu.tw/ocmust004/index.php/2017-09-04-05-42-33\" target=\"_blank\"\n",
            "                            title=\"保護及尊重智慧財產權(另開視窗)\">保護及尊重智慧財產權</a></li>\n",
            "                    <li><a href=\"http://webs.must.edu.tw/ocmust004/index.php/2017-09-04-05-43-40\" target=\"_blank\"\n",
            "                            title=\"個資保護專區(另開視窗)\">個資保護專區</a></li>\n",
            "                    <li><a href=\"https://nit.immigration.gov.tw/\" target=\"_blank\" title=\"新住民數位資訊e網(另開視窗)\">新住民數位資訊e網</a>\n",
            "                    </li>\n",
            "                    <li><a href=\"https://accounting.must.edu.tw/alltop_bus/index.php\" target=\"_blank\"\n",
            "                            title=\"付款紀錄查詢系統(另開視窗)\">付款紀錄查詢系統</a></li>\n",
            "                    <li><a href=\"https://165.npa.gov.tw/#/\" target=\"_blank\" title=\"警政署反詐騙165(另開視窗)\">警政署反詐騙165</a></li>\n",
            "                    <li><a href=\"https://www.moj.gov.tw/lp-198-001.html\" target=\"_blank\"\n",
            "                            title=\"法務部「個人資料保護專區」(另開視窗)\">法務部「個人資料保護專區」</a></li>\n",
            "                    <li><a href=\"https://ucan.moe.edu.tw/Account/Login.aspx\" target=\"_blank\"\n",
            "                            title=\"UCAN大專校院就職平台網站(另開視窗)\">UCAN大專校院就職平台網站</a></li>\n",
            "                    <li><a href=\"http://webc1.must.edu.tw/jtmust069/index.php/2017-02-22-01-45-30/384-2022-3-10\"\n",
            "                            target=\"_blank\" title=\"2021校園徵才就業博覽會(另開視窗)\">2022校園徵才就業博覽會</a></li>\n",
            "                    <li><a href=\"http://www.104.com.tw/\" target=\"_blank\" title=\"104人力銀行(另開視窗)\">104人力銀行</a></li>\n",
            "                    <li><a href=\"http://www.1111.com.tw/\" target=\"_blank\" title=\"1111人力銀行(另開視窗)\">1111人力銀行</a></li>\n",
            "                </ul>\n",
            "            </div>\n",
            "            <div class=\"col-12 col-md-6 item\">\n",
            "\n",
            "                <div class=\"title\">資訊公開連結</div>\n",
            "                <div class=\"wrap\">\n",
            "                    <p>電話：<a href=\"tel:+886-3-5593142\">+886-3-5593142</a></p>\n",
            "                    <p>傳真：+886-3-5595142</p>\n",
            "                    <p>地址：30401新竹縣新豐鄉新興路1號 <a href=\"https://goo.gl/maps/ME8bUnh4pXq3fhfe8\" target=\"_blank\"><img\n",
            "                                src=\"https://www.must.edu.tw/images/ui/map-icon.svg\" alt=\"MustMap\"></a></p>\n",
            "                </div>\n",
            "            </div>\n",
            "            <div class=\"col-12 col-md-6 item\">\n",
            "                <div class=\"title\">Follow us 明新社群</div>\n",
            "                <div class=\"row\">\n",
            "                    <div class=\"share col-7\">\n",
            "                        <div class=\"share-item\"><a href=\"https://www.facebook.com/mustminghsin\" target=\"_blank\"\n",
            "                                title=\"明新FB(另開視窗)\"><img src=\"https://www.must.edu.tw/images/ui/fb.svg\" alt=\"明新FB圖示\"></a>\n",
            "                        </div>\n",
            "                        <div class=\"share-item\"><a href=\"http://bit.ly/2Qehz1x\" target=\"_blank\" title=\"明新IG另開視窗)\"><img\n",
            "                                    src=\"https://www.must.edu.tw/images/ui/ig.svg\" alt=\"明新IG圖示\"></a></div>\n",
            "                        <div class=\"share-item\"><a href=\"http://bit.ly/3mt4Uoy\" target=\"_blank\"\n",
            "                                title=\"明新line(另開視窗)\"><img src=\"https://www.must.edu.tw/images/ui/line.svg\"\n",
            "                                    alt=\"明新line圖示\"></a></div>\n",
            "                        <div class=\"share-item\"><a href=\"http://bit.ly/2RCwpha\" target=\"_blank\"\n",
            "                                title=\"明新youtube(另開視窗)\"><img src=\"https://www.must.edu.tw/images/ui/youtube.svg\"\n",
            "                                    alt=\"明新youtube圖示\"></a></div>\n",
            "                    </div>\n",
            "                    <div class=\"col-5 text-right\"> <a\n",
            "                            href=\"https://accessibility.ncc.gov.tw/Applications/Detail?category=20210225163710\"\n",
            "                            title=\"無障礙網站\">\n",
            "                            <img src=\"https://www.must.edu.tw/images/ui/accessibility.jpg\" width=\"88\" height=\"31\"\n",
            "                                alt=\"通過AA無障礙網頁檢測\" />\n",
            "                        </a></div>\n",
            "\n",
            "                </div>\n",
            "            </div>\n",
            "        </div>\n",
            "    </div>\n",
            "</footer>\n",
            "<div class=\"footnav\">\n",
            "    <div class=\"container\">\n",
            "        <ul class=\"nav\">\n",
            "            <li><a href=\"#accesskeyB\" title=\"下方導覽連結區\" accesskey=\"B\" name=\"accesskeyB\">:::</a></li>\n",
            "            <li><a href=\"https://goo.gl/maps/1iNJQAPueee78wxw6\" title=\"明新科大校園地圖(另開視窗)\">明新科大校園地圖</a></li>\n",
            "            <li><a href=\"http://webc1.must.edu.tw/jtmust068\" title=\"緊急聯絡-校安中心值班電話-0937623842\">緊急聯絡電話</a></li>\n",
            "            <li><a href=\"http://webs.must.edu.tw/ocmust004/images/file/pims/pims-1-01.pdf\"\n",
            "                    title=\"個資保護政策pdf(另開視窗)\">個資保護政策</a></li>\n",
            "            <li><a href=\"http://webs.must.edu.tw/ocmust004/images/file/isms/isms.pdf\" title=\"資訊安全政策pdf(另開視窗)\">資訊安全政策</a>\n",
            "            </li>\n",
            "        </ul>\n",
            "        <div class=\"copyright\">明新科技大學 版權所有© All Rights Reserved. | Designed by <a href=\"https://www.gglisten.com/\"\n",
            "                target=\"_blank\">GGlisten</a> X <a href=\"https://www.cadiis.com.tw/\" target=\"_blank\">Cadiis</a></div>\n",
            "    </div>\n",
            "</div>\n",
            "\n",
            "<script src=\"https://code.jquery.com/jquery-1.12.4.js\"></script>\n",
            "<script src=\"https://www.must.edu.tw/templates/plugin/popper.min.js\"></script>\n",
            "<script src=\"https://cdnjs.cloudflare.com/ajax/libs/waypoints/2.0.3/waypoints.min.js\"></script>\n",
            "<script src=\"https://www.must.edu.tw/templates/plugin/counter-up/jquery.counterup.min.js\"></script>\n",
            "<script src=\"https://www.must.edu.tw/templates/plugin/bootstrap/js/bootstrap.min.js\"></script>\n",
            "<script src=\"https://www.must.edu.tw/templates/plugin/slick/slick.min.js\"></script>\n",
            "<NOSCRIPT>\n",
            "    <P>您的瀏覽器不支援JavaScript功能，若網頁功能無法正常使用時，請開啟瀏覽器JavaScript狀態</P>\n",
            "</NOSCRIPT></body>\n",
            "\n",
            "<script>\n",
            "$('.slider').slick({\n",
            "  dots: false,\n",
            "  infinite: true,\n",
            "  speed: 1000,\n",
            "  fade: true,\n",
            "  adaptiveHeight: true,\n",
            "  cssEase: 'linear',\n",
            "  autoplay:true,\n",
            "  adaptiveHeight: false\n",
            "});\n",
            "\n",
            "$('.panel-title').click(function () {\n",
            "  $(this).toggleClass('open');\n",
            "});\n",
            "\n",
            "$('.home-events,.home-videos').slick({\n",
            "  arrows: false,\n",
            "  dots: true,\n",
            "  infinite: true,\n",
            "  speed: 300,\n",
            "  slidesToShow: 3,\n",
            "  slidesToScroll: 3,\n",
            "  responsive: [{\n",
            "      breakpoint: 1025,\n",
            "      settings: {\n",
            "        slidesToShow: 2,\n",
            "        slidesToScroll: 2,\n",
            "        infinite: true,\n",
            "        dots: true\n",
            "      }\n",
            "    },\n",
            "    {\n",
            "      breakpoint: 768,\n",
            "      settings: {\n",
            "        slidesToShow: 1,\n",
            "        slidesToScroll: 1\n",
            "      }\n",
            "    },\n",
            "    {\n",
            "      breakpoint: 480,\n",
            "      settings: {\n",
            "        slidesToShow: 1,\n",
            "        slidesToScroll: 1\n",
            "      }\n",
            "    }\n",
            "  ]\n",
            "});\n",
            "\n",
            "$('.counter').counterUp({\n",
            "  delay: 10,\n",
            "  time: 1000\n",
            "});\n",
            "</script>\n",
            "</html>\n"
          ]
        }
      ]
    },
    {
      "cell_type": "code",
      "source": [
        "import matplotlib.pyplot as plt\n",
        "x=[1,3,5]\n",
        "y=[2,4,6]\n",
        "plt.bar(x,y)\n",
        "plt.show"
      ],
      "metadata": {
        "colab": {
          "base_uri": "https://localhost:8080/",
          "height": 282
        },
        "id": "WnAVy7XuhQ0A",
        "outputId": "b477c14c-2759-4913-bb20-6c9d0cd1e943"
      },
      "execution_count": null,
      "outputs": [
        {
          "output_type": "execute_result",
          "data": {
            "text/plain": [
              "<function matplotlib.pyplot.show>"
            ]
          },
          "metadata": {},
          "execution_count": 5
        },
        {
          "output_type": "display_data",
          "data": {
            "image/png": "[encoded data removed]",
            "text/plain": [
              "<Figure size 432x288 with 1 Axes>"
            ]
          },
          "metadata": {
            "needs_background": "light"
          }
        }
      ]
    },
    {
      "cell_type": "code",
      "source": [
        "plt.pie(x, labels=y)\n",
        "plt.show"
      ],
      "metadata": {
        "colab": {
          "base_uri": "https://localhost:8080/",
          "height": 266
        },
        "id": "Qfkg-t8kiFcw",
        "outputId": "8bb9a498-52bd-4aa5-e76b-44a47120d98f"
      },
      "execution_count": null,
      "outputs": [
        {
          "output_type": "execute_result",
          "data": {
            "text/plain": [
              "<function matplotlib.pyplot.show>"
            ]
          },
          "metadata": {},
          "execution_count": 7
        },
        {
          "output_type": "display_data",
          "data": {
            "image/png": "[encoded data removed]",
            "text/plain": [
              "<Figure size 432x288 with 1 Axes>"
            ]
          },
          "metadata": {}
        }
      ]
    },
    {
      "cell_type": "code",
      "source": [
        "a=7\n",
        "b=9\n",
        "a+b"
      ],
      "metadata": {
        "colab": {
          "base_uri": "https://localhost:8080/"
        },
        "id": "48K7bC7alDZ-",
        "outputId": "d34549bd-f4c1-4a02-b185-cf42c47985af"
      },
      "execution_count": null,
      "outputs": [
        {
          "output_type": "execute_result",
          "data": {
            "text/plain": [
              "16"
            ]
          },
          "metadata": {},
          "execution_count": 11
        }
      ]
    },
    {
      "cell_type": "code",
      "source": [
        "#變數交換，不透過第3變數\n",
        "x=1\n",
        "y=10\n",
        "x=x+y\n",
        "y=x-y\n",
        "x=x-y\n",
        "print(x,y)"
      ],
      "metadata": {
        "id": "xvmIj31Fm42f"
      },
      "execution_count": null,
      "outputs": []
    },
    {
      "cell_type": "markdown",
      "source": [
        "運算式、變數與資料型別註解"
      ],
      "metadata": {
        "id": "rgard97EzjnQ"
      }
    },
    {
      "cell_type": "code",
      "source": [
        "#單行註解\n",
        "a=5  #單行註解\n",
        "b=3\n",
        "print(a+b)"
      ],
      "metadata": {
        "colab": {
          "base_uri": "https://localhost:8080/"
        },
        "id": "0phpRC9qpmmU",
        "outputId": "b08119c5-04d9-47f7-e01a-1032c616f56c"
      },
      "execution_count": null,
      "outputs": [
        {
          "output_type": "stream",
          "name": "stdout",
          "text": [
            "8\n"
          ]
        }
      ]
    },
    {
      "cell_type": "code",
      "source": [
        "'''\n",
        "   多行註解\n",
        "'''\n",
        "a=5\n",
        "b=3\n",
        "print(a+b)   "
      ],
      "metadata": {
        "colab": {
          "base_uri": "https://localhost:8080/"
        },
        "id": "KUnl4XbpqFJw",
        "outputId": "c4d3d390-6c20-4474-f919-65493067739d"
      },
      "execution_count": null,
      "outputs": [
        {
          "output_type": "stream",
          "name": "stdout",
          "text": [
            "8\n"
          ]
        }
      ]
    },
    {
      "cell_type": "code",
      "source": [
        "import calendar\n",
        "print(calendar.month(2022,5))"
      ],
      "metadata": {
        "colab": {
          "base_uri": "https://localhost:8080/"
        },
        "id": "ZCgEqSZdt_Fh",
        "outputId": "abb57934-8c07-4154-f164-57ee27e061f7"
      },
      "execution_count": null,
      "outputs": [
        {
          "output_type": "stream",
          "name": "stdout",
          "text": [
            "      May 2022\n",
            "Mo Tu We Th Fr Sa Su\n",
            "                   1\n",
            " 2  3  4  5  6  7  8\n",
            " 9 10 11 12 13 14 15\n",
            "16 17 18 19 20 21 22\n",
            "23 24 25 26 27 28 29\n",
            "30 31\n",
            "\n"
          ]
        }
      ]
    },
    {
      "cell_type": "markdown",
      "source": [
        "單月份↑↑\n",
        "一整年↓↓\n",
        "calendar日曆\n",
        "import輸入\n",
        "print找2022年5月的日曆"
      ],
      "metadata": {
        "id": "ngwI6H3IsG_K"
      }
    },
    {
      "cell_type": "code",
      "source": [
        "print(calendar.calendar(2022))"
      ],
      "metadata": {
        "colab": {
          "base_uri": "https://localhost:8080/"
        },
        "id": "QpUxsQIEq3LK",
        "outputId": "a5e23786-72fa-4142-b0d7-53677dd236bb"
      },
      "execution_count": null,
      "outputs": [
        {
          "output_type": "stream",
          "name": "stdout",
          "text": [
            "                                  2022\n",
            "\n",
            "      January                   February                   March\n",
            "Mo Tu We Th Fr Sa Su      Mo Tu We Th Fr Sa Su      Mo Tu We Th Fr Sa Su\n",
            "                1  2          1  2  3  4  5  6          1  2  3  4  5  6\n",
            " 3  4  5  6  7  8  9       7  8  9 10 11 12 13       7  8  9 10 11 12 13\n",
            "10 11 12 13 14 15 16      14 15 16 17 18 19 20      14 15 16 17 18 19 20\n",
            "17 18 19 20 21 22 23      21 22 23 24 25 26 27      21 22 23 24 25 26 27\n",
            "24 25 26 27 28 29 30      28                        28 29 30 31\n",
            "31\n",
            "\n",
            "       April                      May                       June\n",
            "Mo Tu We Th Fr Sa Su      Mo Tu We Th Fr Sa Su      Mo Tu We Th Fr Sa Su\n",
            "             1  2  3                         1             1  2  3  4  5\n",
            " 4  5  6  7  8  9 10       2  3  4  5  6  7  8       6  7  8  9 10 11 12\n",
            "11 12 13 14 15 16 17       9 10 11 12 13 14 15      13 14 15 16 17 18 19\n",
            "18 19 20 21 22 23 24      16 17 18 19 20 21 22      20 21 22 23 24 25 26\n",
            "25 26 27 28 29 30         23 24 25 26 27 28 29      27 28 29 30\n",
            "                          30 31\n",
            "\n",
            "        July                     August                  September\n",
            "Mo Tu We Th Fr Sa Su      Mo Tu We Th Fr Sa Su      Mo Tu We Th Fr Sa Su\n",
            "             1  2  3       1  2  3  4  5  6  7                1  2  3  4\n",
            " 4  5  6  7  8  9 10       8  9 10 11 12 13 14       5  6  7  8  9 10 11\n",
            "11 12 13 14 15 16 17      15 16 17 18 19 20 21      12 13 14 15 16 17 18\n",
            "18 19 20 21 22 23 24      22 23 24 25 26 27 28      19 20 21 22 23 24 25\n",
            "25 26 27 28 29 30 31      29 30 31                  26 27 28 29 30\n",
            "\n",
            "      October                   November                  December\n",
            "Mo Tu We Th Fr Sa Su      Mo Tu We Th Fr Sa Su      Mo Tu We Th Fr Sa Su\n",
            "                1  2          1  2  3  4  5  6                1  2  3  4\n",
            " 3  4  5  6  7  8  9       7  8  9 10 11 12 13       5  6  7  8  9 10 11\n",
            "10 11 12 13 14 15 16      14 15 16 17 18 19 20      12 13 14 15 16 17 18\n",
            "17 18 19 20 21 22 23      21 22 23 24 25 26 27      19 20 21 22 23 24 25\n",
            "24 25 26 27 28 29 30      28 29 30                  26 27 28 29 30 31\n",
            "31\n",
            "\n"
          ]
        }
      ]
    },
    {
      "cell_type": "markdown",
      "metadata": {
        "id": "cPxEtWL2zBdG"
      },
      "source": [
        "### 變數的應用\n",
        "Q：邊長為3, 4, 5的三角形，其面積大小為何?  \n",
        "海龍公式：  \n",
        "s=(a+b+c)/2  \n",
        "sqrt(s(s-a)(s-b)(s-c))  "
      ]
    },
    {
      "cell_type": "code",
      "execution_count": null,
      "metadata": {
        "id": "RlY19l7NzBdH",
        "outputId": "aad1a953-6a09-4974-e77d-732ddfdd5ff8",
        "colab": {
          "base_uri": "https://localhost:8080/"
        }
      },
      "outputs": [
        {
          "output_type": "stream",
          "name": "stdout",
          "text": [
            "6.0\n"
          ]
        }
      ],
      "source": [
        "import math\n",
        "a,b,c=3,4,5\n",
        "s=(a+b+c)/2\n",
        "d=math.sqrt(s*(s-a)*(s-b)*(s-c))\n",
        "print(d)"
      ]
    },
    {
      "cell_type": "markdown",
      "metadata": {
        "id": "qDYkomdNzBdH"
      },
      "source": [
        "Q：半徑為10的圓形，其面積大小為何?  "
      ]
    },
    {
      "cell_type": "code",
      "execution_count": null,
      "metadata": {
        "id": "cYixZivuzBdH",
        "outputId": "acd9849f-9638-4832-e728-197814d66693",
        "colab": {
          "base_uri": "https://localhost:8080/"
        }
      },
      "outputs": [
        {
          "output_type": "stream",
          "name": "stdout",
          "text": [
            "314.1592653589793\n"
          ]
        }
      ],
      "source": [
        "import math\n",
        "r=10\n",
        "print(r*r*math.pi)"
      ]
    },
    {
      "cell_type": "markdown",
      "metadata": {
        "id": "xAVrUeJ3zBdI"
      },
      "source": [
        "## 資料型別\n",
        "python屬於動態類型變數，使用前不需要宣告資料型態"
      ]
    },
    {
      "cell_type": "code",
      "execution_count": null,
      "metadata": {
        "id": "OR2WR_eyzBdI",
        "outputId": "01fcf94b-e656-4c48-fd7a-7e35816a2588",
        "colab": {
          "base_uri": "https://localhost:8080/"
        }
      },
      "outputs": [
        {
          "output_type": "stream",
          "name": "stdout",
          "text": [
            "<class 'int'>\n",
            "<class 'float'>\n",
            "<class 'str'>\n",
            "<class 'bool'>\n"
          ]
        }
      ],
      "source": [
        "x=254\n",
        "print(type(x))\n",
        "y=254.0\n",
        "print(type(y))\n",
        "z='write'\n",
        "print(type(z))\n",
        "print(type(x==y))"
      ]
    },
    {
      "cell_type": "code",
      "execution_count": null,
      "metadata": {
        "id": "iNuGzZGvzBdI",
        "outputId": "d88c68ad-8de6-483f-e55e-20159c3f1ba5",
        "colab": {
          "base_uri": "https://localhost:8080/"
        }
      },
      "outputs": [
        {
          "output_type": "stream",
          "name": "stdout",
          "text": [
            "3.3333333333333335\n",
            "3\n",
            "1\n"
          ]
        }
      ],
      "source": [
        "x=10\n",
        "y=3\n",
        "print(x/y)  #除法\n",
        "print(x//y) #求商\n",
        "print(x%y)  #求餘數"
      ]
    },
    {
      "cell_type": "code",
      "execution_count": null,
      "metadata": {
        "id": "vQpJilkyzBdJ",
        "outputId": "50cc6827-8263-4743-c631-17811fd7a4c2",
        "colab": {
          "base_uri": "https://localhost:8080/"
        }
      },
      "outputs": [
        {
          "output_type": "stream",
          "name": "stdout",
          "text": [
            "0.0015926269999999576\n"
          ]
        }
      ],
      "source": [
        "x=3.141592627\n",
        "print(x-3.14) #比正確值略小"
      ]
    },
    {
      "cell_type": "markdown",
      "source": [
        "### 算術符號的順序\n",
        "()括號 > **次方 > * / 乘除 > +-加減 "
      ],
      "metadata": {
        "id": "W764fgnE3Nx3"
      }
    },
    {
      "cell_type": "code",
      "source": [
        "x=(5*(1+2)**2-3+4/2)\n",
        "print(x)"
      ],
      "metadata": {
        "id": "HE6Y_x9F34KK",
        "outputId": "c99c2b27-cc7d-4fd5-8874-da49c5fd36ad",
        "colab": {
          "base_uri": "https://localhost:8080/"
        }
      },
      "execution_count": null,
      "outputs": [
        {
          "output_type": "stream",
          "name": "stdout",
          "text": [
            "44.0\n"
          ]
        }
      ]
    },
    {
      "cell_type": "markdown",
      "source": [
        "關係比較"
      ],
      "metadata": {
        "id": "NzmxPqU51Gio"
      }
    },
    {
      "cell_type": "code",
      "execution_count": null,
      "metadata": {
        "id": "tmsg2dPYzBdK",
        "outputId": "5f5df4d0-891f-4174-e8b3-bbe88773bec6",
        "colab": {
          "base_uri": "https://localhost:8080/"
        }
      },
      "outputs": [
        {
          "output_type": "stream",
          "name": "stdout",
          "text": [
            "True\n",
            "False\n",
            "20\n"
          ]
        }
      ],
      "source": [
        "print(10==10)\n",
        "x, y = 10, 20\n",
        "print(x==y)  # == 關係比較\n",
        "x=y          # =  指派值\n",
        "print(x)"
      ]
    },
    {
      "cell_type": "code",
      "execution_count": null,
      "metadata": {
        "id": "TyQ5jxwmzBdK",
        "outputId": "8f638283-db51-4f9a-c584-29737e7a4c8c",
        "colab": {
          "base_uri": "https://localhost:8080/"
        }
      },
      "outputs": [
        {
          "output_type": "stream",
          "name": "stdout",
          "text": [
            "False\n",
            "True\n",
            "False\n",
            "True\n"
          ]
        }
      ],
      "source": [
        "y=2010\n",
        "print(y%4==0 and y%100!=0 or y%400==0)\n",
        "y=2012\n",
        "print(y%4==0 and y%100!=0 or y%400==0)\n",
        "y=1900\n",
        "print(y%4==0 and y%100!=0 or y%400==0)\n",
        "y=2000\n",
        "print(y%4==0 and y%100!=0 or y%400==0)"
      ]
    },
    {
      "cell_type": "code",
      "execution_count": null,
      "metadata": {
        "id": "G4y58jyCzBdK",
        "outputId": "f5701490-a780-4bb9-bb06-b58e2c133a10",
        "colab": {
          "base_uri": "https://localhost:8080/"
        }
      },
      "outputs": [
        {
          "output_type": "stream",
          "name": "stdout",
          "text": [
            "mustmustmustmustmustmustmustmustmustmust\n",
            "10must\n",
            "10 must\n"
          ]
        }
      ],
      "source": [
        "#小心不同型態之間所得到的結果跟想像不同\n",
        "x=\"must\"\n",
        "print(10*x)\n",
        "print(\"10\"+x)\n",
        "print(10,x)"
      ]
    },
    {
      "cell_type": "code",
      "execution_count": null,
      "metadata": {
        "id": "hyNNRBttzBdL",
        "outputId": "6e10fb5f-d1d5-4ed3-9d43-5e47c1bb3a84",
        "colab": {
          "base_uri": "https://localhost:8080/"
        }
      },
      "outputs": [
        {
          "output_type": "stream",
          "name": "stdout",
          "text": [
            "<class 'int'>\n",
            "<class 'float'>\n",
            "123\n",
            "123\n",
            "123\n"
          ]
        }
      ],
      "source": [
        "x=12\n",
        "print(type(x))\n",
        "y=float(x)+0.5 #強制型別轉換\n",
        "print(type(y))\n",
        "print(int(\"123\"))\n",
        "print(int(123.33))\n",
        "print(int(float(\"123.33\")))"
      ]
    },
    {
      "cell_type": "code",
      "execution_count": null,
      "metadata": {
        "id": "C53BxXRxzBdL",
        "outputId": "65364830-8957-4c08-be52-10486e5f770a",
        "colab": {
          "base_uri": "https://localhost:8080/"
        }
      },
      "outputs": [
        {
          "output_type": "stream",
          "name": "stdout",
          "text": [
            "The value of x is 32.5 and y is 40000\n",
            "The value of x is 32.5 and y is 40000\n",
            "The value of x is 32.5 and y is 40000\n"
          ]
        }
      ],
      "source": [
        "#字串的型別轉換\n",
        "x=10*3.25  #x=32.5\n",
        "y=200*200  #y=40000\n",
        "s=\"The value of x is \" + str(x) + ' and y is ' + str(y)\n",
        "print(s)\n",
        "print(\"The value of x is\", x,\"and y is\", y)\n",
        "print(\"The value of x is {} and y is {}\".format(x,y))"
      ]
    },
    {
      "cell_type": "code",
      "execution_count": null,
      "metadata": {
        "id": "T1f_qQrqzBdL",
        "outputId": "e9aed56b-aedd-4729-84c3-fbca8b4d793d",
        "colab": {
          "base_uri": "https://localhost:8080/"
        }
      },
      "outputs": [
        {
          "output_type": "stream",
          "name": "stdout",
          "text": [
            "3.141592653589793\n",
            "8.0\n",
            "26.423892221536985\n",
            "5.0\n"
          ]
        }
      ],
      "source": [
        "import math\n",
        "print(math.pi)\n",
        "print(math.pow(2,3))\n",
        "print(8.3*10.58*math.sin(37.0/180*math.pi)/2)\n",
        "print(math.sqrt(25))"
      ]
    },
    {
      "cell_type": "code",
      "execution_count": null,
      "metadata": {
        "id": "g2DMlHbKzBdM",
        "outputId": "a77f5daf-0ddc-445d-ff68-bb769353af5f",
        "colab": {
          "base_uri": "https://localhost:8080/",
          "height": 538
        }
      },
      "outputs": [
        {
          "output_type": "error",
          "ename": "KeyboardInterrupt",
          "evalue": "ignored",
          "traceback": [
            "\u001b[0;31m---------------------------------------------------------------------------\u001b[0m",
            "\u001b[0;31mKeyboardInterrupt\u001b[0m                         Traceback (most recent call last)",
            "\u001b[0;32m/usr/local/lib/python3.7/dist-packages/ipykernel/kernelbase.py\u001b[0m in \u001b[0;36m_input_request\u001b[0;34m(self, prompt, ident, parent, password)\u001b[0m\n\u001b[1;32m    728\u001b[0m             \u001b[0;32mtry\u001b[0m\u001b[0;34m:\u001b[0m\u001b[0;34m\u001b[0m\u001b[0;34m\u001b[0m\u001b[0m\n\u001b[0;32m--> 729\u001b[0;31m                 \u001b[0mident\u001b[0m\u001b[0;34m,\u001b[0m \u001b[0mreply\u001b[0m \u001b[0;34m=\u001b[0m \u001b[0mself\u001b[0m\u001b[0;34m.\u001b[0m\u001b[0msession\u001b[0m\u001b[0;34m.\u001b[0m\u001b[0mrecv\u001b[0m\u001b[0;34m(\u001b[0m\u001b[0mself\u001b[0m\u001b[0;34m.\u001b[0m\u001b[0mstdin_socket\u001b[0m\u001b[0;34m,\u001b[0m \u001b[0;36m0\u001b[0m\u001b[0;34m)\u001b[0m\u001b[0;34m\u001b[0m\u001b[0;34m\u001b[0m\u001b[0m\n\u001b[0m\u001b[1;32m    730\u001b[0m             \u001b[0;32mexcept\u001b[0m \u001b[0mException\u001b[0m\u001b[0;34m:\u001b[0m\u001b[0;34m\u001b[0m\u001b[0;34m\u001b[0m\u001b[0m\n",
            "\u001b[0;32m/usr/local/lib/python3.7/dist-packages/jupyter_client/session.py\u001b[0m in \u001b[0;36mrecv\u001b[0;34m(self, socket, mode, content, copy)\u001b[0m\n\u001b[1;32m    802\u001b[0m         \u001b[0;32mtry\u001b[0m\u001b[0;34m:\u001b[0m\u001b[0;34m\u001b[0m\u001b[0;34m\u001b[0m\u001b[0m\n\u001b[0;32m--> 803\u001b[0;31m             \u001b[0mmsg_list\u001b[0m \u001b[0;34m=\u001b[0m \u001b[0msocket\u001b[0m\u001b[0;34m.\u001b[0m\u001b[0mrecv_multipart\u001b[0m\u001b[0;34m(\u001b[0m\u001b[0mmode\u001b[0m\u001b[0;34m,\u001b[0m \u001b[0mcopy\u001b[0m\u001b[0;34m=\u001b[0m\u001b[0mcopy\u001b[0m\u001b[0;34m)\u001b[0m\u001b[0;34m\u001b[0m\u001b[0;34m\u001b[0m\u001b[0m\n\u001b[0m\u001b[1;32m    804\u001b[0m         \u001b[0;32mexcept\u001b[0m \u001b[0mzmq\u001b[0m\u001b[0;34m.\u001b[0m\u001b[0mZMQError\u001b[0m \u001b[0;32mas\u001b[0m \u001b[0me\u001b[0m\u001b[0;34m:\u001b[0m\u001b[0;34m\u001b[0m\u001b[0;34m\u001b[0m\u001b[0m\n",
            "\u001b[0;32m/usr/local/lib/python3.7/dist-packages/zmq/sugar/socket.py\u001b[0m in \u001b[0;36mrecv_multipart\u001b[0;34m(self, flags, copy, track)\u001b[0m\n\u001b[1;32m    624\u001b[0m         \"\"\"\n\u001b[0;32m--> 625\u001b[0;31m         \u001b[0mparts\u001b[0m \u001b[0;34m=\u001b[0m \u001b[0;34m[\u001b[0m\u001b[0mself\u001b[0m\u001b[0;34m.\u001b[0m\u001b[0mrecv\u001b[0m\u001b[0;34m(\u001b[0m\u001b[0mflags\u001b[0m\u001b[0;34m,\u001b[0m \u001b[0mcopy\u001b[0m\u001b[0;34m=\u001b[0m\u001b[0mcopy\u001b[0m\u001b[0;34m,\u001b[0m \u001b[0mtrack\u001b[0m\u001b[0;34m=\u001b[0m\u001b[0mtrack\u001b[0m\u001b[0;34m)\u001b[0m\u001b[0;34m]\u001b[0m\u001b[0;34m\u001b[0m\u001b[0;34m\u001b[0m\u001b[0m\n\u001b[0m\u001b[1;32m    626\u001b[0m         \u001b[0;31m# have first part already, only loop while more to receive\u001b[0m\u001b[0;34m\u001b[0m\u001b[0;34m\u001b[0m\u001b[0;34m\u001b[0m\u001b[0m\n",
            "\u001b[0;32mzmq/backend/cython/socket.pyx\u001b[0m in \u001b[0;36mzmq.backend.cython.socket.Socket.recv\u001b[0;34m()\u001b[0m\n",
            "\u001b[0;32mzmq/backend/cython/socket.pyx\u001b[0m in \u001b[0;36mzmq.backend.cython.socket.Socket.recv\u001b[0;34m()\u001b[0m\n",
            "\u001b[0;32mzmq/backend/cython/socket.pyx\u001b[0m in \u001b[0;36mzmq.backend.cython.socket._recv_copy\u001b[0;34m()\u001b[0m\n",
            "\u001b[0;32m/usr/local/lib/python3.7/dist-packages/zmq/backend/cython/checkrc.pxd\u001b[0m in \u001b[0;36mzmq.backend.cython.checkrc._check_rc\u001b[0;34m()\u001b[0m\n",
            "\u001b[0;31mKeyboardInterrupt\u001b[0m: ",
            "\nDuring handling of the above exception, another exception occurred:\n",
            "\u001b[0;31mKeyboardInterrupt\u001b[0m                         Traceback (most recent call last)",
            "\u001b[0;32m<ipython-input-15-b650253fd972>\u001b[0m in \u001b[0;36m<module>\u001b[0;34m()\u001b[0m\n\u001b[1;32m      1\u001b[0m \u001b[0;32mimport\u001b[0m \u001b[0mmath\u001b[0m\u001b[0;34m\u001b[0m\u001b[0;34m\u001b[0m\u001b[0m\n\u001b[0;32m----> 2\u001b[0;31m \u001b[0mr\u001b[0m\u001b[0;34m=\u001b[0m\u001b[0minput\u001b[0m\u001b[0;34m(\u001b[0m\u001b[0;34m\"請輸入圓的半徑：\"\u001b[0m\u001b[0;34m)\u001b[0m\u001b[0;34m\u001b[0m\u001b[0;34m\u001b[0m\u001b[0m\n\u001b[0m\u001b[1;32m      3\u001b[0m \u001b[0marea\u001b[0m\u001b[0;34m=\u001b[0m\u001b[0mfloat\u001b[0m\u001b[0;34m(\u001b[0m\u001b[0mr\u001b[0m\u001b[0;34m)\u001b[0m\u001b[0;34m*\u001b[0m\u001b[0mfloat\u001b[0m\u001b[0;34m(\u001b[0m\u001b[0mr\u001b[0m\u001b[0;34m)\u001b[0m\u001b[0;34m*\u001b[0m\u001b[0mmath\u001b[0m\u001b[0;34m.\u001b[0m\u001b[0mpi\u001b[0m\u001b[0;34m\u001b[0m\u001b[0;34m\u001b[0m\u001b[0m\n\u001b[1;32m      4\u001b[0m \u001b[0mprint\u001b[0m\u001b[0;34m(\u001b[0m\u001b[0;34m\"圓面積為：\"\u001b[0m\u001b[0;34m,\u001b[0m\u001b[0marea\u001b[0m\u001b[0;34m)\u001b[0m\u001b[0;34m\u001b[0m\u001b[0;34m\u001b[0m\u001b[0m\n",
            "\u001b[0;32m/usr/local/lib/python3.7/dist-packages/ipykernel/kernelbase.py\u001b[0m in \u001b[0;36mraw_input\u001b[0;34m(self, prompt)\u001b[0m\n\u001b[1;32m    702\u001b[0m             \u001b[0mself\u001b[0m\u001b[0;34m.\u001b[0m\u001b[0m_parent_ident\u001b[0m\u001b[0;34m,\u001b[0m\u001b[0;34m\u001b[0m\u001b[0;34m\u001b[0m\u001b[0m\n\u001b[1;32m    703\u001b[0m             \u001b[0mself\u001b[0m\u001b[0;34m.\u001b[0m\u001b[0m_parent_header\u001b[0m\u001b[0;34m,\u001b[0m\u001b[0;34m\u001b[0m\u001b[0;34m\u001b[0m\u001b[0m\n\u001b[0;32m--> 704\u001b[0;31m             \u001b[0mpassword\u001b[0m\u001b[0;34m=\u001b[0m\u001b[0;32mFalse\u001b[0m\u001b[0;34m,\u001b[0m\u001b[0;34m\u001b[0m\u001b[0;34m\u001b[0m\u001b[0m\n\u001b[0m\u001b[1;32m    705\u001b[0m         )\n\u001b[1;32m    706\u001b[0m \u001b[0;34m\u001b[0m\u001b[0m\n",
            "\u001b[0;32m/usr/local/lib/python3.7/dist-packages/ipykernel/kernelbase.py\u001b[0m in \u001b[0;36m_input_request\u001b[0;34m(self, prompt, ident, parent, password)\u001b[0m\n\u001b[1;32m    732\u001b[0m             \u001b[0;32mexcept\u001b[0m \u001b[0mKeyboardInterrupt\u001b[0m\u001b[0;34m:\u001b[0m\u001b[0;34m\u001b[0m\u001b[0;34m\u001b[0m\u001b[0m\n\u001b[1;32m    733\u001b[0m                 \u001b[0;31m# re-raise KeyboardInterrupt, to truncate traceback\u001b[0m\u001b[0;34m\u001b[0m\u001b[0;34m\u001b[0m\u001b[0;34m\u001b[0m\u001b[0m\n\u001b[0;32m--> 734\u001b[0;31m                 \u001b[0;32mraise\u001b[0m \u001b[0mKeyboardInterrupt\u001b[0m\u001b[0;34m\u001b[0m\u001b[0;34m\u001b[0m\u001b[0m\n\u001b[0m\u001b[1;32m    735\u001b[0m             \u001b[0;32melse\u001b[0m\u001b[0;34m:\u001b[0m\u001b[0;34m\u001b[0m\u001b[0;34m\u001b[0m\u001b[0m\n\u001b[1;32m    736\u001b[0m                 \u001b[0;32mbreak\u001b[0m\u001b[0;34m\u001b[0m\u001b[0;34m\u001b[0m\u001b[0m\n",
            "\u001b[0;31mKeyboardInterrupt\u001b[0m: "
          ]
        }
      ],
      "source": [
        "import math\n",
        "r=input(\"請輸入圓的半徑：\")\n",
        "area=float(r)*float(r)*math.pi\n",
        "print(\"圓面積為：\",area)"
      ]
    },
    {
      "cell_type": "code",
      "execution_count": null,
      "metadata": {
        "id": "ReAoqc4bzBdM"
      },
      "outputs": [],
      "source": [
        "r=input(\"請輸入矩形的長：\")\n",
        "w=input(\"請輸入矩形的寬：\")\n",
        "area=float(r)*float(w)\n",
        "print(\"矩形面積為：\",area)"
      ]
    },
    {
      "cell_type": "markdown",
      "source": [
        "### eval()函數\n",
        "eval會把str型態的表示式，轉換成數學式進行計算 "
      ],
      "metadata": {
        "id": "P2q_5uf61Iwg"
      }
    },
    {
      "cell_type": "code",
      "execution_count": null,
      "metadata": {
        "id": "eLCDyCLDzBdM"
      },
      "outputs": [],
      "source": [
        "print(eval(\"3+5\"))\n",
        "id=input(\"請輸入產品編號：\")\n",
        "print(type(id))\n",
        "print(type(eval(id)))\n"
      ]
    },
    {
      "cell_type": "markdown",
      "source": [
        "###print的三種方式\n",
        "1.透過,區隔要列印的變數 eg: print(\"This\", \"is\", \"a\", \"book\")\n",
        "2.利用字串的str.format() (新式)\n",
        "3.%格式化输出字符串 (舊式)"
      ],
      "metadata": {
        "id": "_EyuKRf9stV8"
      }
    },
    {
      "cell_type": "code",
      "source": [
        "print(\"This\", \"is\", \"a\", \"book\")\n",
        "print(\"This\"+\"is\"+\"a\"+\"book\")"
      ],
      "metadata": {
        "colab": {
          "base_uri": "https://localhost:8080/"
        },
        "id": "PfvgFIrBtXL6",
        "outputId": "32198071-c8db-4e41-c526-20a2d71a52ef"
      },
      "execution_count": null,
      "outputs": [
        {
          "output_type": "stream",
          "name": "stdout",
          "text": [
            "This is a book\n",
            "Thisisabook\n"
          ]
        }
      ]
    },
    {
      "cell_type": "markdown",
      "source": [
        "\n",
        "*   利用字串的str.format()，在{ }中替代變數的位置\n",
        "*   eg: print(\"This {} a book\".format(\"is\"))\n",
        "*   {}中可以設定格式\n",
        "*   例如：{0:10} (10個空格，靠左對齊)\n",
        "*   例如：{:,2f} (三個數字用,分隔，小數點後2位數)\n",
        "\n",
        "\n",
        "\n",
        "\n",
        "\n"
      ],
      "metadata": {
        "id": "HM860INeteTb"
      }
    },
    {
      "cell_type": "code",
      "source": [
        "print(\"This {} a book\".format(\"is\"))\n",
        "x=123456.7890\n",
        "print(\"{:.2f}\".format(x))  #小數點.後兩位\n",
        "print(\"{:,.2f}\".format(x)) #,小數點前用,分開"
      ],
      "metadata": {
        "colab": {
          "base_uri": "https://localhost:8080/"
        },
        "id": "Zn8jCeB3td9W",
        "outputId": "ab8ad7e7-412b-4ef5-c804-f64b124c8663"
      },
      "execution_count": null,
      "outputs": [
        {
          "output_type": "stream",
          "name": "stdout",
          "text": [
            "This is a book\n",
            "123456.79\n",
            "123,456.79\n"
          ]
        }
      ]
    },
    {
      "cell_type": "markdown",
      "source": [
        "\n",
        "*   C語言類似的 % 格式\n",
        "*   %s (字串) %d (整數) %f (浮點數)\n",
        "*   %s(字串): %10s (10格靠右對齊，不足的左方補空白), %-10s\n",
        "*   %f(浮點數): %7.3f (總共7個浮點數位數，含一個小數點，以及三個小數點後數字)\n",
        "\n"
      ],
      "metadata": {
        "id": "1YEGfzy6vZFH"
      }
    },
    {
      "cell_type": "code",
      "source": [
        "print(\"This %-10s a %10s\" % (\"is\",\"dog\")) #字串占10格，靠右2格\n",
        "print(\"%7.3f\" % 6789.4333)"
      ],
      "metadata": {
        "colab": {
          "base_uri": "https://localhost:8080/"
        },
        "id": "ivUYAbGSvpyy",
        "outputId": "81942530-4673-4d9d-f1cb-7b7a26cbd458"
      },
      "execution_count": null,
      "outputs": [
        {
          "output_type": "stream",
          "name": "stdout",
          "text": [
            "This is         a        dog\n",
            "6789.433\n"
          ]
        }
      ]
    },
    {
      "cell_type": "markdown",
      "source": [
        "#流程控制\n",
        "if else , elif\n",
        "*  利用大於等於小於的過程，去顯示輸入的最終結果"
      ],
      "metadata": {
        "id": "JdpvrdAcxftW"
      }
    },
    {
      "cell_type": "code",
      "source": [
        "a=3\n",
        "b=4\n",
        "if a <= b:\n",
        "    print(\"b是比較大的數字\")\n",
        "else:\n",
        "    print(\"a是比較大的數字\")"
      ],
      "metadata": {
        "colab": {
          "base_uri": "https://localhost:8080/"
        },
        "id": "B11zDJ-J0Wxk",
        "outputId": "4ae76ddb-ad51-4a3b-e71b-24b2104acffc"
      },
      "execution_count": null,
      "outputs": [
        {
          "output_type": "stream",
          "name": "stdout",
          "text": [
            "b是比較大的數字\n"
          ]
        }
      ]
    },
    {
      "cell_type": "code",
      "source": [
        "grade=87\n",
        "print(\"成績評鑑：\")\n",
        "if grade >= 90:\n",
        "    print(\"優等\")\n",
        "elif grade >=80:\n",
        "    print(\"甲等\")\n",
        "elif grade >=70:\n",
        "    print(\"乙等\")\n",
        "elif grade >=60:\n",
        "    print(\"丙等\")\n",
        "else:\n",
        "    print(\"不及格\")"
      ],
      "metadata": {
        "colab": {
          "base_uri": "https://localhost:8080/"
        },
        "id": "1F5QU5xP0hq5",
        "outputId": "d3a13bdc-c370-4c2e-a1ec-5f7f402c8a1f"
      },
      "execution_count": null,
      "outputs": [
        {
          "output_type": "stream",
          "name": "stdout",
          "text": [
            "成績評鑑：\n",
            "甲等\n"
          ]
        }
      ]
    },
    {
      "cell_type": "markdown",
      "source": [
        "**for** **迴圈** \n",
        "*  給算式跑迴圈就有答案"
      ],
      "metadata": {
        "id": "1tZfso5v0oiF"
      }
    },
    {
      "cell_type": "code",
      "source": [
        "#1+2+3...+10總和\n",
        "sum = 0\n",
        "for count in range(1, 11, 1): #從1開始，間隔1, 不包含11\n",
        "    sum += count\n",
        "print(\"1+2+3+...+10 =\", sum)"
      ],
      "metadata": {
        "colab": {
          "base_uri": "https://localhost:8080/"
        },
        "id": "LLtKdZ9t0jT7",
        "outputId": "f53ba7bd-8753-4089-ff02-e31b2527947b"
      },
      "execution_count": null,
      "outputs": [
        {
          "output_type": "stream",
          "name": "stdout",
          "text": [
            "1+2+3+...+10 = 55\n"
          ]
        }
      ]
    },
    {
      "cell_type": "code",
      "source": [
        "#range另外一種寫法\n",
        "#1+2+3...+10總和\n",
        "sum = 0\n",
        "for count in range(11): #1-10, 不包含11\n",
        "    sum += count\n",
        "print(\"1+2+3+...+10 =\", sum)"
      ],
      "metadata": {
        "colab": {
          "base_uri": "https://localhost:8080/"
        },
        "id": "-cFIrlVg0jZP",
        "outputId": "28d2a8d2-a37c-4de3-92ba-d9e02eb07d85"
      },
      "execution_count": null,
      "outputs": [
        {
          "output_type": "stream",
          "name": "stdout",
          "text": [
            "1+2+3+...+10 = 55\n"
          ]
        }
      ]
    },
    {
      "cell_type": "code",
      "source": [
        "mylist=\"for statement\"\n",
        "for c in mylist:\n",
        "    print(c)\n",
        "print(\"end list\")"
      ],
      "metadata": {
        "colab": {
          "base_uri": "https://localhost:8080/"
        },
        "id": "5CNamAnf0_sS",
        "outputId": "058df803-00d4-43a9-a20c-bc146c044a78"
      },
      "execution_count": null,
      "outputs": [
        {
          "output_type": "stream",
          "name": "stdout",
          "text": [
            "f\n",
            "o\n",
            "r\n",
            " \n",
            "s\n",
            "t\n",
            "a\n",
            "t\n",
            "e\n",
            "m\n",
            "e\n",
            "n\n",
            "t\n",
            "end list\n"
          ]
        }
      ]
    },
    {
      "cell_type": "code",
      "source": [
        "for pl in [\"Java\", \"C#\", \"Python\"]:\n",
        "    print(pl)"
      ],
      "metadata": {
        "colab": {
          "base_uri": "https://localhost:8080/"
        },
        "id": "0Go2Srel1DHi",
        "outputId": "d4d370db-3ca4-4988-d217-98db2f6a6ca8"
      },
      "execution_count": null,
      "outputs": [
        {
          "output_type": "stream",
          "name": "stdout",
          "text": [
            "Java\n",
            "C#\n",
            "Python\n"
          ]
        }
      ]
    },
    {
      "cell_type": "markdown",
      "source": [
        "雞兔同籠，若共有35個頭，94隻腳，請問有幾隻雞?幾隻兔?"
      ],
      "metadata": {
        "id": "yPYxMqQz1jts"
      }
    },
    {
      "cell_type": "code",
      "source": [
        "for chicken in range(0,36):\n",
        "    rabbit=35-chicken\n",
        "    if (2*chicken+4*rabbit) == 94:\n",
        "        print(\"雞有\",chicken,\"隻,兔子有\",rabbit,\"隻\")\n",
        "        break\n",
        "else:\n",
        "    print(\"無解\")"
      ],
      "metadata": {
        "colab": {
          "base_uri": "https://localhost:8080/"
        },
        "id": "agAzHh9X1LD1",
        "outputId": "e1ea3c88-1bb6-4c2f-fc2a-0ba1e1a669aa"
      },
      "execution_count": null,
      "outputs": [
        {
          "output_type": "stream",
          "name": "stdout",
          "text": [
            "雞有 23 隻,兔子有 12 隻\n"
          ]
        }
      ]
    },
    {
      "cell_type": "markdown",
      "source": [
        "**while迴圈**\n",
        "\n",
        "\n",
        "*   成立則繼續\n",
        "*   不成立則結束\n",
        "\n"
      ],
      "metadata": {
        "id": "8g7I8RM-1SQu"
      }
    },
    {
      "cell_type": "code",
      "source": [
        "sum=0\n",
        "count=1\n",
        "while count <=10:\n",
        "    sum += count\n",
        "    count += 1\n",
        "print(\"1+2+3+...+10=\",sum)"
      ],
      "metadata": {
        "colab": {
          "base_uri": "https://localhost:8080/"
        },
        "id": "QchMPDIK1fQ8",
        "outputId": "a1902b8e-90b3-4212-ae40-3a4b9b73ea82"
      },
      "execution_count": null,
      "outputs": [
        {
          "output_type": "stream",
          "name": "stdout",
          "text": [
            "1+2+3+...+10= 55\n"
          ]
        }
      ]
    },
    {
      "cell_type": "markdown",
      "source": [
        "本金10000元，定存年利率0.6%，請問多久銀行存款會翻倍?"
      ],
      "metadata": {
        "id": "b_3VlQx41j5T"
      }
    },
    {
      "cell_type": "code",
      "source": [
        "x=10000\n",
        "years=0\n",
        "while x <= 20000:\n",
        "    x=x*1.006\n",
        "    years += 1\n",
        "print(str(years), \"年以後，存款加倍，為\", int(x),\"元\")"
      ],
      "metadata": {
        "colab": {
          "base_uri": "https://localhost:8080/"
        },
        "id": "TSAkQm8J1sPa",
        "outputId": "d6f9f558-a0a4-40de-e6b0-24783e0e7253"
      },
      "execution_count": null,
      "outputs": [
        {
          "output_type": "stream",
          "name": "stdout",
          "text": [
            "116 年以後，存款加倍，為 20015 元\n"
          ]
        }
      ]
    },
    {
      "cell_type": "markdown",
      "source": [
        "**帳號密碼判斷**\n",
        "\n",
        "\n",
        "*   只有兩個都輸入正確才會出現歡迎登入\n",
        "\n"
      ],
      "metadata": {
        "id": "ZccLrBB51wzv"
      }
    },
    {
      "cell_type": "code",
      "source": [
        "id=\"amy\"\n",
        "pwd=\"123\"\n",
        "while True:\n",
        "    x=input(\"請輸入帳號：\")\n",
        "    y=input(\"請輸入密碼：\")\n",
        "    if (x==id and y==pwd):\n",
        "        print(\"歡迎登入\")\n",
        "        break\n",
        "    else:\n",
        "        print(\"帳號或密碼輸入錯誤\")"
      ],
      "metadata": {
        "colab": {
          "base_uri": "https://localhost:8080/"
        },
        "id": "cf2Z25Vd10Ec",
        "outputId": "635a63b2-117d-4e05-c661-9a97b2acb7f7"
      },
      "execution_count": null,
      "outputs": [
        {
          "output_type": "stream",
          "name": "stdout",
          "text": [
            "請輸入帳號：vivian\n",
            "請輸入密碼：123\n",
            "帳號或密碼輸入錯誤\n",
            "請輸入帳號：amy\n",
            "請輸入密碼：56\n",
            "帳號或密碼輸入錯誤\n",
            "請輸入帳號：amy\n",
            "請輸入密碼：123\n",
            "歡迎登入\n"
          ]
        }
      ]
    },
    {
      "cell_type": "markdown",
      "source": [
        "**亂數**\n",
        "*   random隨機\n",
        "*   randint隨機挑選數字範圍\n",
        "*   range行列\n",
        "\n"
      ],
      "metadata": {
        "id": "6vtAN1Lu2b18"
      }
    },
    {
      "cell_type": "code",
      "source": [
        "import random\n",
        "for i in range(0,10):\n",
        "    print(random.randint(1,100))"
      ],
      "metadata": {
        "colab": {
          "base_uri": "https://localhost:8080/"
        },
        "id": "vcw2qJsm2ZyQ",
        "outputId": "f826a956-de21-41d8-f7df-37dc718b27d1"
      },
      "execution_count": null,
      "outputs": [
        {
          "output_type": "stream",
          "name": "stdout",
          "text": [
            "98\n",
            "91\n",
            "59\n",
            "19\n",
            "23\n",
            "93\n",
            "14\n",
            "68\n",
            "27\n",
            "7\n"
          ]
        }
      ]
    },
    {
      "cell_type": "markdown",
      "source": [
        "**猜數字**"
      ],
      "metadata": {
        "id": "ZLnH5Gne21Y9"
      }
    },
    {
      "cell_type": "code",
      "source": [
        "import random\n",
        "number=random.randint(1,20)\n",
        "while True:\n",
        "    guess=int(input(\"請輸入1~20之間的數字-->\"))\n",
        "    if guess == number:\n",
        "        print(\"你猜對了，數字是\", number)\n",
        "        break\n",
        "    else:\n",
        "        print(\"你猜錯了\")"
      ],
      "metadata": {
        "colab": {
          "base_uri": "https://localhost:8080/"
        },
        "id": "l9P8wlf926uo",
        "outputId": "8d8ab6f3-b43c-4761-8491-b4acd14125f4"
      },
      "execution_count": null,
      "outputs": [
        {
          "output_type": "stream",
          "name": "stdout",
          "text": [
            "請輸入1~20之間的數字-->15\n",
            "你猜錯了\n",
            "請輸入1~20之間的數字-->2\n",
            "你猜錯了\n",
            "請輸入1~20之間的數字-->19\n",
            "你猜錯了\n",
            "請輸入1~20之間的數字-->20\n",
            "你猜對了，數字是 20\n"
          ]
        }
      ]
    }
  ]
}